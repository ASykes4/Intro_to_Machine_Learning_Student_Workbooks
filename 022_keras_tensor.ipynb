{
  "cells": [
    {
      "cell_type": "code",
      "execution_count": 1,
      "metadata": {
        "id": "gGsMHgvKZVRO"
      },
      "outputs": [],
      "source": [
        "import numpy as np\n",
        "import pandas as pd\n",
        "from keras.models import Sequential\n",
        "from keras.layers import Dense, Dropout\n",
        "from sklearn.model_selection import train_test_split\n",
        "from sklearn.metrics import mean_absolute_error\n",
        "import tensorflow as tf\n",
        "from keras.utils import np_utils\n",
        "\n",
        "import matplotlib as mpl\n",
        "import matplotlib.pyplot as plt\n",
        "from sklearn.decomposition import TruncatedSVD"
      ]
    },
    {
      "cell_type": "code",
      "execution_count": 2,
      "metadata": {
        "id": "_lu_r1ndZVRR"
      },
      "outputs": [],
      "source": [
        "# Helper to plot loss\n",
        "def plot_loss(history):\n",
        "  plt.plot(history.history['loss'], label='loss')\n",
        "  plt.plot(history.history['val_loss'], label='val_loss')\n",
        "  plt.legend()\n",
        "  plt.grid(True)"
      ]
    },
    {
      "attachments": {},
      "cell_type": "markdown",
      "metadata": {
        "id": "52niBYdKZVRS"
      },
      "source": [
        "# Keras, TensorFlow, and Neural Network Regression\n",
        "\n",
        "As we have seen, neural networks aren't quite as complex as they appear at first, however we still generally don't want to have to build them from scratch very often. The libraries that we will primarily use for creating neural network models are Tensorflow and Keras. Keras and Tensorflow combine to be roughly what sklearn was for the other types of models we've used. \n",
        "\n",
        "### Tensorflow\n",
        "\n",
        "Tensorflow, developed by Google, is one of the most popular libraries for neural networks. \n",
        "\n",
        "### Keras\n",
        "\n",
        "Keras is another package that provides an an API offering an easier to use interface to Tensorflow, allowing us to use it with code that is higher level, avoiding much of the linear math that can make Tensorflow frustrating. Since its introduction Keras has been wrapped in with Tensorflow and the two are normally now blended together as far as we are concerned. \n",
        "\n",
        "### Other Alternatives\n",
        "\n",
        "Keras and Tensorflow are not the only libraries of neural networks, the primary competitor to Tensorflow is PyTorch, which was developed by Facebook. PyTorch does pretty much the same thing as Tensorflow, we won't look at it. While PyTorch is less commonly used than Tensorflow right now, it has picked up steam recently. There's a pretty high likelihood that both Tensorflow and PyTorch will be common for the foreseeable future.\n",
        "\n",
        "### Optimization and Efficiency Notes\n",
        "\n",
        "Neural networks are very computationally expensive, and can take a long time to train. As we move into looking at some larger models in the near future, the processing time on a typical laptop will become prohibitive. We will utilize Google Colab for some of these examples, which will allow us to borrow some GPU processing that is often drastically faster than what we can get on our own machines.\n",
        "\n",
        "If you happen to have a machine with a nVidia GPU, an M1/M2 Mac, or potentially a couple of other GPUs, you can install an optimized version of Tensorflow on your machine that will allow this stuff to use your GPU and be way faster without using Colab. This isn't required, but it is a good idea if your computer is capable. I don't have a GPU, so I don't have a detailed example, but you can google \"install tensorflow GPU/M1 Mac\" or similar for your GPU and there will be some pretty simple step-by-step instructions. If available, this will make a big difference in the speed of your models. "
      ]
    },
    {
      "attachments": {},
      "cell_type": "markdown",
      "metadata": {},
      "source": [
        "## Remote Data and Google Colab\n",
        "\n",
        "Below we'll load some data, however here we'll load something from a data repository that I setup on Azure, rather than the desktop, as we normally would. This is easy to do, we just change the path to the URL and use our \"read_csv\" as usual. The reason for this is that we are going to use Google Colab for some of the processing here, and if we are loading data from some static location, like this server address, we don't need to worry about loading data files and maintaining file paths. This will likely be something that you need to at least pay some attention to if you are using Colab. The key thing to remember is that it doesn't matter where the data is stored, as long as you can get to it. So if we need to change the data to make things work, we may have to change the loading bit to make it work. \n",
        "\n",
        "#### Your Remote Data\n",
        "\n",
        "If you have a large-ish dataset that you're using, you can do the same thing. The datasets can be loaded directly from your github repository URL, as long as you get the \"Raw\" URL from Github. Click on the raw link on a file, then use the URL of the resulting page:\n",
        "\n",
        "![Raw Link](images/github_raw.png \"Raw Link\")\n",
        "\n",
        "Then you can use that URL to load the data. If you have data that comes from some site on the internet, you can likely load it similarly, assuming there's no security on the site blocking you from loading it. If there's something that doesn't work in any reasonable way, let me know, we might be able to put it on this Azure repository. I can't promise that in every situation though, it isn't free - though Azure, AWS, and Google Cloud all have free access of various levels that you could sign up for and use, if you wanted to. You can also save stuff to your Google Drive, and then load it from there - Google instructions if you need to do this. \n",
        "\n",
        "### Google Colab\n",
        "\n",
        "As noted, we'll use Colab for some of our neural network stuff, as it gives us GPU access, which is massively helpful in many situations. The URL for Colab is https://colab.research.google.com/ and you can sign in with your Google account. Once on Colab, it works pretty much like Jupyter notebooks. To load data from Github, we can go to File->Open Notebook->Github, and then paste in the URL of the repository we want to load and select the notebook. Once loaded, it is basically a normal notebook. The one thing to pay attention to is that if there are any file loading bits in the code, those will fail, as noted above. \n",
        "\n",
        "Inside of Colab, the one key thing we want is to enable GPU accelleration. To do this, go to Edit->Notebook Settings, and then select GPU as the hardware accelerator. This will make a big difference in the speed of your models when using tensorflow. One thing to note is that while we get a bunch of GPU time for free, it is limited. So it is probably a waste to run huge tests with massive numbers of epochs, over and over, as you will likely run out of GPU time at some point. It will reset, but how much is allocated to each person is basically up to the whims of Google at any given moment. The \"!\" command below will print the details on the GPU that is currently being used.\n",
        "\n",
        "I prefer to do all the editing in VS Code, save, upload to Github, then load and run the final code in a Colab window. This is more personal prefence than anything else, but it works well for me. You can also edit and save things in Colab, including back to Github, but you will likely need to do some authorization to allow access, and the process feels more annoying to me. For ease, I added this parameter to set the epochs globally for this notebook, so I can set it to a low number while working locally, then increase it when I want to test the actual performance on Colab. We could do a similar thing with sampling large datasets. "
      ]
    },
    {
      "cell_type": "code",
      "execution_count": 3,
      "metadata": {},
      "outputs": [
        {
          "name": "stdout",
          "output_type": "stream",
          "text": [
            "GPU 0: GeForce RTX 3060 Laptop GPU (UUID: GPU-12b45e43-f90d-893c-0095-06d722e923fd)\n"
          ]
        }
      ],
      "source": [
        "BASE_EPOCHS = 100\n",
        "!nvidia-smi -L"
      ]
    },
    {
      "cell_type": "code",
      "execution_count": 4,
      "metadata": {
        "id": "JrKP3wO_ZVRT",
        "outputId": "1ac1822c-99a5-4e98-ea4d-0158aed55c65"
      },
      "outputs": [
        {
          "data": {
            "text/html": [
              "<div>\n",
              "<style scoped>\n",
              "    .dataframe tbody tr th:only-of-type {\n",
              "        vertical-align: middle;\n",
              "    }\n",
              "\n",
              "    .dataframe tbody tr th {\n",
              "        vertical-align: top;\n",
              "    }\n",
              "\n",
              "    .dataframe thead th {\n",
              "        text-align: right;\n",
              "    }\n",
              "</style>\n",
              "<table border=\"1\" class=\"dataframe\">\n",
              "  <thead>\n",
              "    <tr style=\"text-align: right;\">\n",
              "      <th></th>\n",
              "      <th>price</th>\n",
              "      <th>bedrooms</th>\n",
              "      <th>bathrooms</th>\n",
              "      <th>sqft_living</th>\n",
              "      <th>sqft_lot</th>\n",
              "      <th>floors</th>\n",
              "      <th>waterfront</th>\n",
              "      <th>view</th>\n",
              "      <th>condition</th>\n",
              "      <th>grade</th>\n",
              "      <th>sqft_above</th>\n",
              "      <th>sqft_basement</th>\n",
              "      <th>yr_built</th>\n",
              "      <th>yr_renovated</th>\n",
              "      <th>zipcode</th>\n",
              "      <th>lat</th>\n",
              "      <th>long</th>\n",
              "      <th>sqft_living15</th>\n",
              "      <th>sqft_lot15</th>\n",
              "    </tr>\n",
              "  </thead>\n",
              "  <tbody>\n",
              "    <tr>\n",
              "      <th>21608</th>\n",
              "      <td>360000.0</td>\n",
              "      <td>3</td>\n",
              "      <td>2.50</td>\n",
              "      <td>1530</td>\n",
              "      <td>1131</td>\n",
              "      <td>3.0</td>\n",
              "      <td>0</td>\n",
              "      <td>0</td>\n",
              "      <td>3</td>\n",
              "      <td>8</td>\n",
              "      <td>1530</td>\n",
              "      <td>0</td>\n",
              "      <td>2009</td>\n",
              "      <td>0</td>\n",
              "      <td>98103</td>\n",
              "      <td>47.6993</td>\n",
              "      <td>-122.346</td>\n",
              "      <td>1530</td>\n",
              "      <td>1509</td>\n",
              "    </tr>\n",
              "    <tr>\n",
              "      <th>21609</th>\n",
              "      <td>400000.0</td>\n",
              "      <td>4</td>\n",
              "      <td>2.50</td>\n",
              "      <td>2310</td>\n",
              "      <td>5813</td>\n",
              "      <td>2.0</td>\n",
              "      <td>0</td>\n",
              "      <td>0</td>\n",
              "      <td>3</td>\n",
              "      <td>8</td>\n",
              "      <td>2310</td>\n",
              "      <td>0</td>\n",
              "      <td>2014</td>\n",
              "      <td>0</td>\n",
              "      <td>98146</td>\n",
              "      <td>47.5107</td>\n",
              "      <td>-122.362</td>\n",
              "      <td>1830</td>\n",
              "      <td>7200</td>\n",
              "    </tr>\n",
              "    <tr>\n",
              "      <th>21610</th>\n",
              "      <td>402101.0</td>\n",
              "      <td>2</td>\n",
              "      <td>0.75</td>\n",
              "      <td>1020</td>\n",
              "      <td>1350</td>\n",
              "      <td>2.0</td>\n",
              "      <td>0</td>\n",
              "      <td>0</td>\n",
              "      <td>3</td>\n",
              "      <td>7</td>\n",
              "      <td>1020</td>\n",
              "      <td>0</td>\n",
              "      <td>2009</td>\n",
              "      <td>0</td>\n",
              "      <td>98144</td>\n",
              "      <td>47.5944</td>\n",
              "      <td>-122.299</td>\n",
              "      <td>1020</td>\n",
              "      <td>2007</td>\n",
              "    </tr>\n",
              "    <tr>\n",
              "      <th>21611</th>\n",
              "      <td>400000.0</td>\n",
              "      <td>3</td>\n",
              "      <td>2.50</td>\n",
              "      <td>1600</td>\n",
              "      <td>2388</td>\n",
              "      <td>2.0</td>\n",
              "      <td>0</td>\n",
              "      <td>0</td>\n",
              "      <td>3</td>\n",
              "      <td>8</td>\n",
              "      <td>1600</td>\n",
              "      <td>0</td>\n",
              "      <td>2004</td>\n",
              "      <td>0</td>\n",
              "      <td>98027</td>\n",
              "      <td>47.5345</td>\n",
              "      <td>-122.069</td>\n",
              "      <td>1410</td>\n",
              "      <td>1287</td>\n",
              "    </tr>\n",
              "    <tr>\n",
              "      <th>21612</th>\n",
              "      <td>325000.0</td>\n",
              "      <td>2</td>\n",
              "      <td>0.75</td>\n",
              "      <td>1020</td>\n",
              "      <td>1076</td>\n",
              "      <td>2.0</td>\n",
              "      <td>0</td>\n",
              "      <td>0</td>\n",
              "      <td>3</td>\n",
              "      <td>7</td>\n",
              "      <td>1020</td>\n",
              "      <td>0</td>\n",
              "      <td>2008</td>\n",
              "      <td>0</td>\n",
              "      <td>98144</td>\n",
              "      <td>47.5941</td>\n",
              "      <td>-122.299</td>\n",
              "      <td>1020</td>\n",
              "      <td>1357</td>\n",
              "    </tr>\n",
              "  </tbody>\n",
              "</table>\n",
              "</div>"
            ],
            "text/plain": [
              "          price  bedrooms  bathrooms  sqft_living  sqft_lot  floors  \\\n",
              "21608  360000.0         3       2.50         1530      1131     3.0   \n",
              "21609  400000.0         4       2.50         2310      5813     2.0   \n",
              "21610  402101.0         2       0.75         1020      1350     2.0   \n",
              "21611  400000.0         3       2.50         1600      2388     2.0   \n",
              "21612  325000.0         2       0.75         1020      1076     2.0   \n",
              "\n",
              "       waterfront  view  condition  grade  sqft_above  sqft_basement  \\\n",
              "21608           0     0          3      8        1530              0   \n",
              "21609           0     0          3      8        2310              0   \n",
              "21610           0     0          3      7        1020              0   \n",
              "21611           0     0          3      8        1600              0   \n",
              "21612           0     0          3      7        1020              0   \n",
              "\n",
              "       yr_built  yr_renovated  zipcode      lat     long  sqft_living15  \\\n",
              "21608      2009             0    98103  47.6993 -122.346           1530   \n",
              "21609      2014             0    98146  47.5107 -122.362           1830   \n",
              "21610      2009             0    98144  47.5944 -122.299           1020   \n",
              "21611      2004             0    98027  47.5345 -122.069           1410   \n",
              "21612      2008             0    98144  47.5941 -122.299           1020   \n",
              "\n",
              "       sqft_lot15  \n",
              "21608        1509  \n",
              "21609        7200  \n",
              "21610        2007  \n",
              "21611        1287  \n",
              "21612        1357  "
            ]
          },
          "execution_count": 4,
          "metadata": {},
          "output_type": "execute_result"
        }
      ],
      "source": [
        "#df = pd.read_csv(\"data/house_data.csv\")\n",
        "df = pd.read_csv(\"https://jrssbcrsefilesnait.blob.core.windows.net/3950data1/house_data.csv\")\n",
        "df.tail()"
      ]
    },
    {
      "cell_type": "code",
      "execution_count": 5,
      "metadata": {
        "id": "uLE617U8ZVRV",
        "outputId": "08d0318a-9c52-4e72-b585-ade094db2591"
      },
      "outputs": [
        {
          "name": "stdout",
          "output_type": "stream",
          "text": [
            "<class 'pandas.core.frame.DataFrame'>\n",
            "RangeIndex: 21613 entries, 0 to 21612\n",
            "Data columns (total 19 columns):\n",
            " #   Column         Non-Null Count  Dtype  \n",
            "---  ------         --------------  -----  \n",
            " 0   price          21613 non-null  float64\n",
            " 1   bedrooms       21613 non-null  int64  \n",
            " 2   bathrooms      21613 non-null  float64\n",
            " 3   sqft_living    21613 non-null  int64  \n",
            " 4   sqft_lot       21613 non-null  int64  \n",
            " 5   floors         21613 non-null  float64\n",
            " 6   waterfront     21613 non-null  int64  \n",
            " 7   view           21613 non-null  int64  \n",
            " 8   condition      21613 non-null  int64  \n",
            " 9   grade          21613 non-null  int64  \n",
            " 10  sqft_above     21613 non-null  int64  \n",
            " 11  sqft_basement  21613 non-null  int64  \n",
            " 12  yr_built       21613 non-null  int64  \n",
            " 13  yr_renovated   21613 non-null  int64  \n",
            " 14  zipcode        21613 non-null  int64  \n",
            " 15  lat            21613 non-null  float64\n",
            " 16  long           21613 non-null  float64\n",
            " 17  sqft_living15  21613 non-null  int64  \n",
            " 18  sqft_lot15     21613 non-null  int64  \n",
            "dtypes: float64(5), int64(14)\n",
            "memory usage: 3.1 MB\n"
          ]
        }
      ],
      "source": [
        "df.info()"
      ]
    },
    {
      "cell_type": "code",
      "execution_count": 40,
      "metadata": {
        "id": "ThkDxsnGZVRV",
        "outputId": "fef44a1a-6690-4bd7-b618-dd6261194d3f"
      },
      "outputs": [
        {
          "name": "stdout",
          "output_type": "stream",
          "text": [
            "(21613, 18) (21613, 1)\n"
          ]
        }
      ],
      "source": [
        "y = np.array(df[\"price\"]).reshape(-1,1)\n",
        "X = np.array(df.drop(columns={\"price\"}))\n",
        "print(X.shape, y.shape)\n",
        "X_train, X_test, y_train, y_test = train_test_split(X, y)"
      ]
    },
    {
      "attachments": {},
      "cell_type": "markdown",
      "metadata": {
        "id": "DY9JoSCXZVRW"
      },
      "source": [
        "## Create Model\n",
        "\n",
        "Creating a NN model is slightly different from the normal process that we are used to in sklearn. We need to do a little more work to set it up. \n",
        "\n",
        "### Create Model and Add Layers\n",
        "\n",
        "First we need to make a NN model, it comes \"empty\". We will use a sequential model, which is the most simple type but is less configurable (which we don't care about much right now). The limitation of sequential models is that they can only take in one tensor and only output one tensor. The other options here are \"functional\", which allows for the structure of the model to be configured, and \"model subclassing\", which allows you to build almost everything from scratch. These other types are more complex and more flexible, but actually aren't really needed for most applications, and we won't use them. These more complex models are commonly used for scenarios where the data is complex, such as a self driving car - a model needs to output steering as well as velocity. Also for more complex problems such as language or image processing, this flexibility allows for models to be created that are better able to extract the information from the data.\n",
        "\n",
        "#### Layers\n",
        "\n",
        "Next we need to add some layers. We will start simple with only two \"thinking\" layers, and one to do some processing. We can think of the layers roughly like steps of the sklearn pipeline, with data entering at the first layer and predictions flowing out of the final layer. \n",
        "\n",
        "In addition to \"normal\" neural network layers, there are many other types that can do all kinds of other stuff. One example we will use here is the normalization one at the front. This layer does exactly what you'd expect - it normalizes our data so the rest of the network can use it. The normalize layer will also automatically handle the 2D nature of the data that we are used to, so we don't need to worry about that aspect here. Other layers can do everything from regularization to image processing, they are also commonly inhierited for developers to create custom layers targeting specific tasks. We'll use a few of the other ones as we move through some more complex models.\n",
        "\n",
        "![Keras Layers](images/keras_layers.jpg \"Keras Layers\")\n",
        "\n",
        "#### Dense Layers\n",
        "\n",
        "We'll use dense layers here, and they are the main building block in our models. When adding the layer we need to specify a couple of things. One is the input dimensions - we need to tell the network what the shape of the incomming data is. \n",
        "\n",
        "The other argument is the units, which represents the output dimension. When using these Keras dense layers we don't need to specify each layer's input/output like we did when we made it by hand. We specify both, using units and input_dim, for the first layer that takes in the input; for subsequent layers we can just specify the output and Keras will automatically figure the rest out. \n",
        "\n",
        "Note that there is also an input layer that can be added, we can avoid the need for it by using the input_dim or input_shape as shown below. The two examples there do the same thing, since the input is flat - 18 features. If we are dealing with inputs that do not start out as flat, such as in an image, use the input_shape since you can specify all dimensions; we will see an example of this next time with some images. \n",
        "\n",
        "#### Activation Function\n",
        "\n",
        "For each of our layers we need to define which activation function to use. For now we will use the ReLU function, which is probably the most popular. We'll look at other ones later on. Note that we've left the activation function off of the final layer - we are doing regression so we want that raw value. This is the same idea as with linear regression - we don't want the prediction to be transformed through something like the sigmoid, we just want the number.\n",
        "\n",
        "#### Summary\n",
        "\n",
        "After we've constructed the model, the summary command give us, well, a summary. "
      ]
    },
    {
      "cell_type": "markdown",
      "metadata": {
        "id": "bIquYAGtZVRX"
      },
      "source": [
        "We are dealing with a bunch of numerical inputs here, so we can add a normalization layer at the front end. Like with sklearn, we want to fit the normalization to the training data only. "
      ]
    },
    {
      "cell_type": "code",
      "execution_count": 41,
      "metadata": {
        "id": "zWPhKP3wZVRX",
        "outputId": "4c6bc4d8-4a5f-4da7-edd8-7792b597b931"
      },
      "outputs": [
        {
          "name": "stdout",
          "output_type": "stream",
          "text": [
            "Model: \"sequential_25\"\n",
            "_________________________________________________________________\n",
            " Layer (type)                Output Shape              Param #   \n",
            "=================================================================\n",
            " normalization_25 (Normaliza  (None, 18)               37        \n",
            " tion)                                                           \n",
            "                                                                 \n",
            " dense_98 (Dense)            (None, 18)                342       \n",
            "                                                                 \n",
            " dense_99 (Dense)            (None, 1)                 19        \n",
            "                                                                 \n",
            "=================================================================\n",
            "Total params: 398\n",
            "Trainable params: 361\n",
            "Non-trainable params: 37\n",
            "_________________________________________________________________\n"
          ]
        }
      ],
      "source": [
        "normalizer = tf.keras.layers.Normalization(axis=-1)\n",
        "normalizer.adapt(np.array(X_train))\n",
        "\n",
        "model = Sequential()\n",
        "model.add(normalizer)\n",
        "model.add(Dense(18, input_shape=(18,), activation='relu'))\n",
        "model.add(Dense(1))\n",
        "model.summary()"
      ]
    },
    {
      "attachments": {},
      "cell_type": "markdown",
      "metadata": {
        "id": "B6AH5AydZVRY"
      },
      "source": [
        "#### Compile Model\n",
        "\n",
        "Once a model is created we need to compile it. The complie step basically builds the layers we specified above and the loss and optimization parameters below together into a usable model object. When compiling the model we are providing it with the things it needs to calculate error:\n",
        "\n",
        "<ul>\n",
        "<li> Loss - we can provide a loss function that we'd like to use. \n",
        "<li> Optimizer - the optimizer is the algorithm that the model will use to perform the gradient descent to find the lowest error. Adam is a very common choice.\n",
        "<li> Learning rate - the learning rate is provided as a parameter of the optimizer. \n",
        "</ul>\n",
        "\n",
        "##### Optimizing Adam\n",
        "\n",
        "The optimizer is the algorithm used to perform the gradient descent and minimize error. For the most part this isn't something we need to be concerned about. The choice of optimizer is much more important if dealing with very large datasets because different optimizers have different levels of efficiency. For our purposes, we can use Adam and be pretty happy. Adam stands for Adaptive Moment Estimation which means basically that it will adjust itself depending on current gradients. It tends to be efficient both in time and memory, so it is very commonly used. \n",
        "\n",
        "<b>Note:</b> it is pretty common in tensorflow and keras to have things like the example below, where we can specify \"adam\" with either the name, or the full class with arguments. These different ways of doing things are generally interchangable, but it does make documentation more confusing, as the two different ways may often be interchanged. "
      ]
    },
    {
      "cell_type": "code",
      "execution_count": 8,
      "metadata": {
        "id": "fEya_QckZVRY"
      },
      "outputs": [],
      "source": [
        "#model.compile(loss='mean_absolute_error', optimizer=\"adam\")\n",
        "model.compile(loss='mean_absolute_error', optimizer=tf.optimizers.Adam(learning_rate=.01))"
      ]
    },
    {
      "attachments": {},
      "cell_type": "markdown",
      "metadata": {
        "id": "n9TUG422ZVRZ"
      },
      "source": [
        "### Fit the Model\n",
        "\n",
        "The fit command does the same thing that we are used to, it trains the model, however there are some differences. The main difference is that batch_size is almost always set in neural networks, while the sklearn models just take all the data at once. \n",
        "\n",
        "What's a batch? Batches are just subsets of the data, so if the batch size is 100 the algorithm will grab 100 rows at a time before making an update to the weights and bias. There are a few reasons this exists:\n",
        "\n",
        "<ul>\n",
        "<li> Memory constraints - it is common with neural networks to deal with datasets that are extremely large. Processing data that can't fit entirely in RAM is very slow (the computer must swap data from the hard drive to RAM as it is needed) compared to data that is in RAM. Cutting the batch size can avoid this issue. \n",
        "<li> Speed - the math involved in the back propagation can sometimes be very computationally intensive. \n",
        "<li> Accuracy - batch size can have an impact on accuracy, though that impact is not very predictable. For the most part finding an optimal batch size will need to be grid-searched. \n",
        "</ul>\n",
        "\n",
        "The fit command also has the epoch paramater, which instructs on how many times to work through ALL of the data. We want to ensure we have enough epochs to find the optimal solution. Training rounds, or epochs, are one of the key tuning factors when using neural networks. Similar to large trees, large neural networks are capable of learning the training data very well, and carry the same risk of overfitting. With neural networks, a common approach to tuning is to allow the model to train, and cut it off when we start overfitting, or when the testing accuracy starts to decrease.\n",
        "\n",
        "#### Plot the Loss\n",
        "\n",
        "One very common visualization we see with neural networks is a plot of both training and validation loss vs number of epochs. Generally we'll see the training loss drop - first sharply as the model initially fits itself, then more slowly as it becomes more fitted. The validation loss will usually somewhat mirror the training loss, except it will often reach a minimum at some point before again increasing. This minimum point is our best model, when the validation loss starts increasing again, that is a sign that the model has become overfitted - customized to the training data, but less and less generalizable to new data. \n",
        "\n",
        "Set the verbosity to 1 in the fit to get a full list of the loss for each epoch to pinpoint the exact \"ideal\" number of epochs. We'll look more at this in a minute. "
      ]
    },
    {
      "cell_type": "code",
      "execution_count": 9,
      "metadata": {
        "id": "bDUXMj_pZVRZ",
        "outputId": "6facd69a-6643-4845-da6f-94199649ac5b"
      },
      "outputs": [
        {
          "name": "stdout",
          "output_type": "stream",
          "text": [
            "Epoch 1/100\n",
            "130/130 [==============================] - 1s 2ms/step - loss: 542166.3125 - val_loss: 538803.4375\n",
            "Epoch 2/100\n",
            "130/130 [==============================] - 0s 1ms/step - loss: 541782.9375 - val_loss: 538156.5625\n",
            "Epoch 3/100\n",
            "130/130 [==============================] - 0s 2ms/step - loss: 540866.0625 - val_loss: 537008.6875\n",
            "Epoch 4/100\n",
            "130/130 [==============================] - 0s 1ms/step - loss: 539468.1250 - val_loss: 535404.8750\n",
            "Epoch 5/100\n",
            "130/130 [==============================] - 0s 2ms/step - loss: 537620.0625 - val_loss: 533365.5000\n",
            "Epoch 6/100\n",
            "130/130 [==============================] - 0s 1ms/step - loss: 535341.8750 - val_loss: 530923.1250\n",
            "Epoch 7/100\n",
            "130/130 [==============================] - 0s 2ms/step - loss: 532655.8750 - val_loss: 528085.8125\n",
            "Epoch 8/100\n",
            "130/130 [==============================] - 0s 1ms/step - loss: 529581.9375 - val_loss: 524883.8750\n",
            "Epoch 9/100\n",
            "130/130 [==============================] - 0s 1ms/step - loss: 526135.7500 - val_loss: 521307.7188\n",
            "Epoch 10/100\n",
            "130/130 [==============================] - 0s 1ms/step - loss: 522332.7500 - val_loss: 517389.7812\n",
            "Epoch 11/100\n",
            "130/130 [==============================] - 0s 1ms/step - loss: 518186.2500 - val_loss: 513161.0938\n",
            "Epoch 12/100\n",
            "130/130 [==============================] - 0s 1ms/step - loss: 513711.7500 - val_loss: 508592.5625\n",
            "Epoch 13/100\n",
            "130/130 [==============================] - 0s 1ms/step - loss: 508917.3750 - val_loss: 503724.7188\n",
            "Epoch 14/100\n",
            "130/130 [==============================] - 0s 1ms/step - loss: 503811.4688 - val_loss: 498565.2812\n",
            "Epoch 15/100\n",
            "130/130 [==============================] - 0s 2ms/step - loss: 498408.6562 - val_loss: 493104.0000\n",
            "Epoch 16/100\n",
            "130/130 [==============================] - 0s 2ms/step - loss: 492719.6562 - val_loss: 487361.8125\n",
            "Epoch 17/100\n",
            "130/130 [==============================] - 0s 1ms/step - loss: 486753.4375 - val_loss: 481359.6250\n",
            "Epoch 18/100\n",
            "130/130 [==============================] - 0s 1ms/step - loss: 480517.3125 - val_loss: 475107.6562\n",
            "Epoch 19/100\n",
            "130/130 [==============================] - 0s 1ms/step - loss: 474021.1562 - val_loss: 468606.8125\n",
            "Epoch 20/100\n",
            "130/130 [==============================] - 0s 2ms/step - loss: 467280.1250 - val_loss: 461876.0000\n",
            "Epoch 21/100\n",
            "130/130 [==============================] - 0s 2ms/step - loss: 460304.7812 - val_loss: 454908.8750\n",
            "Epoch 22/100\n",
            "130/130 [==============================] - 0s 1ms/step - loss: 453104.8125 - val_loss: 447732.2812\n",
            "Epoch 23/100\n",
            "130/130 [==============================] - 0s 2ms/step - loss: 445690.6875 - val_loss: 440365.0625\n",
            "Epoch 24/100\n",
            "130/130 [==============================] - 0s 2ms/step - loss: 438069.1250 - val_loss: 432775.8125\n",
            "Epoch 25/100\n",
            "130/130 [==============================] - 0s 1ms/step - loss: 430243.0312 - val_loss: 425009.7188\n",
            "Epoch 26/100\n",
            "130/130 [==============================] - 0s 1ms/step - loss: 422267.5938 - val_loss: 417081.1562\n",
            "Epoch 27/100\n",
            "130/130 [==============================] - 0s 1ms/step - loss: 414170.8438 - val_loss: 409017.5312\n",
            "Epoch 28/100\n",
            "130/130 [==============================] - 0s 1ms/step - loss: 405950.7188 - val_loss: 400855.8125\n",
            "Epoch 29/100\n",
            "130/130 [==============================] - 0s 1ms/step - loss: 397658.5938 - val_loss: 392667.4062\n",
            "Epoch 30/100\n",
            "130/130 [==============================] - 0s 1ms/step - loss: 389309.4375 - val_loss: 384441.4062\n",
            "Epoch 31/100\n",
            "130/130 [==============================] - 0s 1ms/step - loss: 380971.6562 - val_loss: 376238.9062\n",
            "Epoch 32/100\n",
            "130/130 [==============================] - 0s 1ms/step - loss: 372716.9688 - val_loss: 368113.4375\n",
            "Epoch 33/100\n",
            "130/130 [==============================] - 0s 1ms/step - loss: 364529.7188 - val_loss: 360042.1250\n",
            "Epoch 34/100\n",
            "130/130 [==============================] - 0s 1ms/step - loss: 356417.9375 - val_loss: 352069.9688\n",
            "Epoch 35/100\n",
            "130/130 [==============================] - 0s 1ms/step - loss: 348443.6250 - val_loss: 344236.0625\n",
            "Epoch 36/100\n",
            "130/130 [==============================] - 0s 1ms/step - loss: 340645.4062 - val_loss: 336586.4375\n",
            "Epoch 37/100\n",
            "130/130 [==============================] - 0s 1ms/step - loss: 333027.4688 - val_loss: 329053.4062\n",
            "Epoch 38/100\n",
            "130/130 [==============================] - 0s 1ms/step - loss: 325646.5000 - val_loss: 321855.5000\n",
            "Epoch 39/100\n",
            "130/130 [==============================] - 0s 1ms/step - loss: 318614.3125 - val_loss: 314940.8438\n",
            "Epoch 40/100\n",
            "130/130 [==============================] - 0s 1ms/step - loss: 311994.6250 - val_loss: 308358.8125\n",
            "Epoch 41/100\n",
            "130/130 [==============================] - 0s 1ms/step - loss: 305733.5625 - val_loss: 302134.5000\n",
            "Epoch 42/100\n",
            "130/130 [==============================] - 0s 1ms/step - loss: 299848.3125 - val_loss: 296244.7812\n",
            "Epoch 43/100\n",
            "130/130 [==============================] - 0s 1ms/step - loss: 294283.1562 - val_loss: 290646.4062\n",
            "Epoch 44/100\n",
            "130/130 [==============================] - 0s 1ms/step - loss: 289033.3438 - val_loss: 285358.6562\n",
            "Epoch 45/100\n",
            "130/130 [==============================] - 0s 1ms/step - loss: 284075.8125 - val_loss: 280343.0625\n",
            "Epoch 46/100\n",
            "130/130 [==============================] - 0s 1ms/step - loss: 279384.2188 - val_loss: 275567.2500\n",
            "Epoch 47/100\n",
            "130/130 [==============================] - 0s 1ms/step - loss: 274997.4062 - val_loss: 271066.1562\n",
            "Epoch 48/100\n",
            "130/130 [==============================] - 0s 1ms/step - loss: 270849.8438 - val_loss: 266780.4375\n",
            "Epoch 49/100\n",
            "130/130 [==============================] - 0s 1ms/step - loss: 266854.4375 - val_loss: 262663.5625\n",
            "Epoch 50/100\n",
            "130/130 [==============================] - 0s 1ms/step - loss: 263089.0625 - val_loss: 258805.7812\n",
            "Epoch 51/100\n",
            "130/130 [==============================] - 0s 1ms/step - loss: 259589.7812 - val_loss: 255207.8594\n",
            "Epoch 52/100\n",
            "130/130 [==============================] - 0s 1ms/step - loss: 256344.1875 - val_loss: 251951.9688\n",
            "Epoch 53/100\n",
            "130/130 [==============================] - 0s 1ms/step - loss: 253356.8906 - val_loss: 248933.6875\n",
            "Epoch 54/100\n",
            "130/130 [==============================] - 0s 1ms/step - loss: 250626.5000 - val_loss: 246185.5156\n",
            "Epoch 55/100\n",
            "130/130 [==============================] - 0s 1ms/step - loss: 248093.0469 - val_loss: 243551.6406\n",
            "Epoch 56/100\n",
            "130/130 [==============================] - 0s 1ms/step - loss: 245725.2188 - val_loss: 241141.2656\n",
            "Epoch 57/100\n",
            "130/130 [==============================] - 0s 1ms/step - loss: 243497.3281 - val_loss: 238833.0000\n",
            "Epoch 58/100\n",
            "130/130 [==============================] - 0s 1ms/step - loss: 241403.3281 - val_loss: 236643.8438\n",
            "Epoch 59/100\n",
            "130/130 [==============================] - 0s 1ms/step - loss: 239430.9531 - val_loss: 234583.5469\n",
            "Epoch 60/100\n",
            "130/130 [==============================] - 0s 1ms/step - loss: 237524.4844 - val_loss: 232582.1562\n",
            "Epoch 61/100\n",
            "130/130 [==============================] - 0s 2ms/step - loss: 235687.4219 - val_loss: 230635.2500\n",
            "Epoch 62/100\n",
            "130/130 [==============================] - 0s 2ms/step - loss: 233907.0312 - val_loss: 228761.1250\n",
            "Epoch 63/100\n",
            "130/130 [==============================] - 0s 1ms/step - loss: 232152.8281 - val_loss: 226888.3750\n",
            "Epoch 64/100\n",
            "130/130 [==============================] - 0s 1ms/step - loss: 230417.2188 - val_loss: 225099.3125\n",
            "Epoch 65/100\n",
            "130/130 [==============================] - 0s 1ms/step - loss: 228729.0781 - val_loss: 223317.4219\n",
            "Epoch 66/100\n",
            "130/130 [==============================] - 0s 1ms/step - loss: 227065.6094 - val_loss: 221575.1719\n",
            "Epoch 67/100\n",
            "130/130 [==============================] - 0s 1ms/step - loss: 225428.0156 - val_loss: 219842.4688\n",
            "Epoch 68/100\n",
            "130/130 [==============================] - 0s 1ms/step - loss: 223797.1406 - val_loss: 218124.0000\n",
            "Epoch 69/100\n",
            "130/130 [==============================] - 0s 1ms/step - loss: 222176.7656 - val_loss: 216415.9844\n",
            "Epoch 70/100\n",
            "130/130 [==============================] - 0s 1ms/step - loss: 220588.6719 - val_loss: 214739.0156\n",
            "Epoch 71/100\n",
            "130/130 [==============================] - 0s 1ms/step - loss: 219025.7656 - val_loss: 213074.6406\n",
            "Epoch 72/100\n",
            "130/130 [==============================] - 0s 1ms/step - loss: 217458.2031 - val_loss: 211433.8281\n",
            "Epoch 73/100\n",
            "130/130 [==============================] - 0s 1ms/step - loss: 215903.0156 - val_loss: 209793.6719\n",
            "Epoch 74/100\n",
            "130/130 [==============================] - 0s 1ms/step - loss: 214361.6875 - val_loss: 208186.2812\n",
            "Epoch 75/100\n",
            "130/130 [==============================] - 0s 1ms/step - loss: 212837.0469 - val_loss: 206574.7812\n",
            "Epoch 76/100\n",
            "130/130 [==============================] - 0s 1ms/step - loss: 211323.3125 - val_loss: 204973.3906\n",
            "Epoch 77/100\n",
            "130/130 [==============================] - 0s 1ms/step - loss: 209817.0000 - val_loss: 203412.7344\n",
            "Epoch 78/100\n",
            "130/130 [==============================] - 0s 1ms/step - loss: 208318.4688 - val_loss: 201885.3281\n",
            "Epoch 79/100\n",
            "130/130 [==============================] - 0s 1ms/step - loss: 206837.7500 - val_loss: 200345.2500\n",
            "Epoch 80/100\n",
            "130/130 [==============================] - 0s 1ms/step - loss: 205372.9062 - val_loss: 198846.5938\n",
            "Epoch 81/100\n",
            "130/130 [==============================] - 0s 1ms/step - loss: 203926.2344 - val_loss: 197405.0938\n",
            "Epoch 82/100\n",
            "130/130 [==============================] - 0s 1ms/step - loss: 202517.3750 - val_loss: 196012.1406\n",
            "Epoch 83/100\n",
            "130/130 [==============================] - 0s 3ms/step - loss: 201152.4219 - val_loss: 194651.7812\n",
            "Epoch 84/100\n",
            "130/130 [==============================] - 0s 1ms/step - loss: 199807.2656 - val_loss: 193318.7500\n",
            "Epoch 85/100\n",
            "130/130 [==============================] - 0s 1ms/step - loss: 198477.1562 - val_loss: 191979.5312\n",
            "Epoch 86/100\n",
            "130/130 [==============================] - 0s 2ms/step - loss: 197171.3750 - val_loss: 190639.6562\n",
            "Epoch 87/100\n",
            "130/130 [==============================] - 0s 1ms/step - loss: 195888.5625 - val_loss: 189372.5312\n",
            "Epoch 88/100\n",
            "130/130 [==============================] - 0s 1ms/step - loss: 194627.7812 - val_loss: 188103.0625\n",
            "Epoch 89/100\n",
            "130/130 [==============================] - 0s 1ms/step - loss: 193392.9844 - val_loss: 186880.8438\n",
            "Epoch 90/100\n",
            "130/130 [==============================] - 0s 1ms/step - loss: 192190.7188 - val_loss: 185681.6094\n",
            "Epoch 91/100\n",
            "130/130 [==============================] - 0s 1ms/step - loss: 191008.4531 - val_loss: 184495.6875\n",
            "Epoch 92/100\n",
            "130/130 [==============================] - 0s 1ms/step - loss: 189845.3281 - val_loss: 183322.8125\n",
            "Epoch 93/100\n",
            "130/130 [==============================] - 0s 1ms/step - loss: 188690.7188 - val_loss: 182174.6250\n",
            "Epoch 94/100\n",
            "130/130 [==============================] - 0s 1ms/step - loss: 187558.6406 - val_loss: 181025.7188\n",
            "Epoch 95/100\n",
            "130/130 [==============================] - 0s 1ms/step - loss: 186448.7656 - val_loss: 179921.6719\n",
            "Epoch 96/100\n",
            "130/130 [==============================] - 0s 1ms/step - loss: 185360.2812 - val_loss: 178849.2031\n",
            "Epoch 97/100\n",
            "130/130 [==============================] - 0s 1ms/step - loss: 184295.2500 - val_loss: 177783.3594\n",
            "Epoch 98/100\n",
            "130/130 [==============================] - 0s 1ms/step - loss: 183256.2656 - val_loss: 176762.5781\n",
            "Epoch 99/100\n",
            "130/130 [==============================] - 0s 1ms/step - loss: 182240.8125 - val_loss: 175751.2969\n",
            "Epoch 100/100\n",
            "130/130 [==============================] - 0s 1ms/step - loss: 181248.4219 - val_loss: 174779.4531\n",
            "169/169 [==============================] - 0s 867us/step - loss: 176392.0469\n"
          ]
        },
        {
          "data": {
            "image/png": "[encoded data removed]",
            "text/plain": [
              "<Figure size 432x288 with 1 Axes>"
            ]
          },
          "metadata": {
            "needs_background": "light"
          },
          "output_type": "display_data"
        }
      ],
      "source": [
        "train_log = model.fit(X_train, y_train, epochs=BASE_EPOCHS, batch_size=BASE_EPOCHS, validation_split=.2, verbose=1)\n",
        "model.evaluate(X_test, y_test)\n",
        "plot_loss(train_log)"
      ]
    },
    {
      "cell_type": "markdown",
      "metadata": {
        "id": "o3vc6DpiZVRZ"
      },
      "source": [
        "### Exercise\n",
        "\n",
        "Make a simple neural network for predicting the price of homes in California. "
      ]
    },
    {
      "cell_type": "code",
      "execution_count": 10,
      "metadata": {
        "id": "ZqmBczcMZVRZ",
        "outputId": "da98e1e8-4f49-4a0b-ee35-34c696f10dca"
      },
      "outputs": [
        {
          "data": {
            "text/html": [
              "<div>\n",
              "<style scoped>\n",
              "    .dataframe tbody tr th:only-of-type {\n",
              "        vertical-align: middle;\n",
              "    }\n",
              "\n",
              "    .dataframe tbody tr th {\n",
              "        vertical-align: top;\n",
              "    }\n",
              "\n",
              "    .dataframe thead th {\n",
              "        text-align: right;\n",
              "    }\n",
              "</style>\n",
              "<table border=\"1\" class=\"dataframe\">\n",
              "  <thead>\n",
              "    <tr style=\"text-align: right;\">\n",
              "      <th></th>\n",
              "      <th>MedInc</th>\n",
              "      <th>HouseAge</th>\n",
              "      <th>AveRooms</th>\n",
              "      <th>AveBedrms</th>\n",
              "      <th>Population</th>\n",
              "      <th>AveOccup</th>\n",
              "      <th>Latitude</th>\n",
              "      <th>Longitude</th>\n",
              "    </tr>\n",
              "  </thead>\n",
              "  <tbody>\n",
              "    <tr>\n",
              "      <th>0</th>\n",
              "      <td>8.3252</td>\n",
              "      <td>41.0</td>\n",
              "      <td>6.984127</td>\n",
              "      <td>1.023810</td>\n",
              "      <td>322.0</td>\n",
              "      <td>2.555556</td>\n",
              "      <td>37.88</td>\n",
              "      <td>-122.23</td>\n",
              "    </tr>\n",
              "    <tr>\n",
              "      <th>1</th>\n",
              "      <td>8.3014</td>\n",
              "      <td>21.0</td>\n",
              "      <td>6.238137</td>\n",
              "      <td>0.971880</td>\n",
              "      <td>2401.0</td>\n",
              "      <td>2.109842</td>\n",
              "      <td>37.86</td>\n",
              "      <td>-122.22</td>\n",
              "    </tr>\n",
              "    <tr>\n",
              "      <th>2</th>\n",
              "      <td>7.2574</td>\n",
              "      <td>52.0</td>\n",
              "      <td>8.288136</td>\n",
              "      <td>1.073446</td>\n",
              "      <td>496.0</td>\n",
              "      <td>2.802260</td>\n",
              "      <td>37.85</td>\n",
              "      <td>-122.24</td>\n",
              "    </tr>\n",
              "    <tr>\n",
              "      <th>3</th>\n",
              "      <td>5.6431</td>\n",
              "      <td>52.0</td>\n",
              "      <td>5.817352</td>\n",
              "      <td>1.073059</td>\n",
              "      <td>558.0</td>\n",
              "      <td>2.547945</td>\n",
              "      <td>37.85</td>\n",
              "      <td>-122.25</td>\n",
              "    </tr>\n",
              "    <tr>\n",
              "      <th>4</th>\n",
              "      <td>3.8462</td>\n",
              "      <td>52.0</td>\n",
              "      <td>6.281853</td>\n",
              "      <td>1.081081</td>\n",
              "      <td>565.0</td>\n",
              "      <td>2.181467</td>\n",
              "      <td>37.85</td>\n",
              "      <td>-122.25</td>\n",
              "    </tr>\n",
              "  </tbody>\n",
              "</table>\n",
              "</div>"
            ],
            "text/plain": [
              "   MedInc  HouseAge  AveRooms  AveBedrms  Population  AveOccup  Latitude  \\\n",
              "0  8.3252      41.0  6.984127   1.023810       322.0  2.555556     37.88   \n",
              "1  8.3014      21.0  6.238137   0.971880      2401.0  2.109842     37.86   \n",
              "2  7.2574      52.0  8.288136   1.073446       496.0  2.802260     37.85   \n",
              "3  5.6431      52.0  5.817352   1.073059       558.0  2.547945     37.85   \n",
              "4  3.8462      52.0  6.281853   1.081081       565.0  2.181467     37.85   \n",
              "\n",
              "   Longitude  \n",
              "0    -122.23  \n",
              "1    -122.22  \n",
              "2    -122.24  \n",
              "3    -122.25  \n",
              "4    -122.25  "
            ]
          },
          "execution_count": 10,
          "metadata": {},
          "output_type": "execute_result"
        }
      ],
      "source": [
        "from sklearn.datasets import fetch_california_housing\n",
        "\n",
        "cal = fetch_california_housing(as_frame=True)\n",
        "Xcal = pd.DataFrame(cal.data)\n",
        "ycal = pd.DataFrame(cal.target)\n",
        "Xcal.head()"
      ]
    },
    {
      "cell_type": "code",
      "execution_count": 11,
      "metadata": {},
      "outputs": [
        {
          "data": {
            "text/html": [
              "<div>\n",
              "<style scoped>\n",
              "    .dataframe tbody tr th:only-of-type {\n",
              "        vertical-align: middle;\n",
              "    }\n",
              "\n",
              "    .dataframe tbody tr th {\n",
              "        vertical-align: top;\n",
              "    }\n",
              "\n",
              "    .dataframe thead th {\n",
              "        text-align: right;\n",
              "    }\n",
              "</style>\n",
              "<table border=\"1\" class=\"dataframe\">\n",
              "  <thead>\n",
              "    <tr style=\"text-align: right;\">\n",
              "      <th></th>\n",
              "      <th>MedHouseVal</th>\n",
              "    </tr>\n",
              "  </thead>\n",
              "  <tbody>\n",
              "    <tr>\n",
              "      <th>0</th>\n",
              "      <td>4.526</td>\n",
              "    </tr>\n",
              "    <tr>\n",
              "      <th>1</th>\n",
              "      <td>3.585</td>\n",
              "    </tr>\n",
              "    <tr>\n",
              "      <th>2</th>\n",
              "      <td>3.521</td>\n",
              "    </tr>\n",
              "    <tr>\n",
              "      <th>3</th>\n",
              "      <td>3.413</td>\n",
              "    </tr>\n",
              "    <tr>\n",
              "      <th>4</th>\n",
              "      <td>3.422</td>\n",
              "    </tr>\n",
              "  </tbody>\n",
              "</table>\n",
              "</div>"
            ],
            "text/plain": [
              "   MedHouseVal\n",
              "0        4.526\n",
              "1        3.585\n",
              "2        3.521\n",
              "3        3.413\n",
              "4        3.422"
            ]
          },
          "execution_count": 11,
          "metadata": {},
          "output_type": "execute_result"
        }
      ],
      "source": [
        "ycal.head()"
      ]
    },
    {
      "cell_type": "code",
      "execution_count": 12,
      "metadata": {},
      "outputs": [],
      "source": [
        "y = np.array(ycal).reshape(-1,1)\n",
        "X = np.array(Xcal)\n",
        "X_train, X_test, y_train, y_test = train_test_split(Xcal, ycal)"
      ]
    },
    {
      "cell_type": "code",
      "execution_count": 34,
      "metadata": {
        "id": "8TxqgdHUZVRa",
        "outputId": "f29561ee-1d8f-4b8a-f19f-b28371799e23"
      },
      "outputs": [
        {
          "name": "stdout",
          "output_type": "stream",
          "text": [
            "Epoch 1/100\n",
            "117/117 [==============================] - 1s 3ms/step - loss: 0.8634 - val_loss: 0.4275\n",
            "Epoch 2/100\n",
            "117/117 [==============================] - 0s 1ms/step - loss: 0.4188 - val_loss: 0.4321\n",
            "Epoch 3/100\n",
            "117/117 [==============================] - 0s 3ms/step - loss: 0.3870 - val_loss: 0.3597\n",
            "Epoch 4/100\n",
            "117/117 [==============================] - 0s 3ms/step - loss: 0.3618 - val_loss: 0.3358\n",
            "Epoch 5/100\n",
            "117/117 [==============================] - 0s 2ms/step - loss: 0.3460 - val_loss: 0.3366\n",
            "Epoch 6/100\n",
            "117/117 [==============================] - 0s 2ms/step - loss: 0.3372 - val_loss: 0.3459\n",
            "Epoch 7/100\n",
            "117/117 [==============================] - 0s 2ms/step - loss: 0.3259 - val_loss: 0.3205\n",
            "Epoch 8/100\n",
            "117/117 [==============================] - 0s 2ms/step - loss: 0.3198 - val_loss: 0.4056\n",
            "Epoch 9/100\n",
            "117/117 [==============================] - 0s 1ms/step - loss: 0.3301 - val_loss: 0.3321\n",
            "Epoch 10/100\n",
            "117/117 [==============================] - 0s 2ms/step - loss: 0.3127 - val_loss: 0.3659\n",
            "Epoch 11/100\n",
            "117/117 [==============================] - 0s 1ms/step - loss: 0.3102 - val_loss: 0.3260\n",
            "Epoch 12/100\n",
            "117/117 [==============================] - 0s 2ms/step - loss: 0.3040 - val_loss: 0.3106\n",
            "Epoch 13/100\n",
            "117/117 [==============================] - 0s 1ms/step - loss: 0.3013 - val_loss: 0.3066\n",
            "Epoch 14/100\n",
            "117/117 [==============================] - 0s 2ms/step - loss: 0.3071 - val_loss: 0.3036\n",
            "Epoch 15/100\n",
            "117/117 [==============================] - 0s 2ms/step - loss: 0.2911 - val_loss: 0.3065\n",
            "Epoch 16/100\n",
            "117/117 [==============================] - 0s 1ms/step - loss: 0.2952 - val_loss: 0.3008\n",
            "Epoch 17/100\n",
            "117/117 [==============================] - 0s 1ms/step - loss: 0.2947 - val_loss: 0.3323\n",
            "Epoch 18/100\n",
            "117/117 [==============================] - 0s 2ms/step - loss: 0.2890 - val_loss: 0.2995\n",
            "Epoch 19/100\n",
            "117/117 [==============================] - 0s 2ms/step - loss: 0.2876 - val_loss: 0.3654\n",
            "Epoch 20/100\n",
            "117/117 [==============================] - 0s 1ms/step - loss: 0.2982 - val_loss: 0.2849\n",
            "Epoch 21/100\n",
            "117/117 [==============================] - 0s 2ms/step - loss: 0.2796 - val_loss: 0.2836\n",
            "Epoch 22/100\n",
            "117/117 [==============================] - 0s 2ms/step - loss: 0.2804 - val_loss: 0.3091\n",
            "Epoch 23/100\n",
            "117/117 [==============================] - 0s 3ms/step - loss: 0.2773 - val_loss: 0.2937\n",
            "Epoch 24/100\n",
            "117/117 [==============================] - 0s 3ms/step - loss: 0.2835 - val_loss: 0.2969\n",
            "Epoch 25/100\n",
            "117/117 [==============================] - 0s 3ms/step - loss: 0.2709 - val_loss: 0.2914\n",
            "Epoch 26/100\n",
            "117/117 [==============================] - 0s 3ms/step - loss: 0.2752 - val_loss: 0.2862\n",
            "Epoch 27/100\n",
            "117/117 [==============================] - 0s 2ms/step - loss: 0.2723 - val_loss: 0.2875\n",
            "Epoch 28/100\n",
            "117/117 [==============================] - 0s 1ms/step - loss: 0.2762 - val_loss: 0.3153\n",
            "Epoch 29/100\n",
            "117/117 [==============================] - 0s 1ms/step - loss: 0.2718 - val_loss: 0.2953\n",
            "Epoch 30/100\n",
            "117/117 [==============================] - 0s 1ms/step - loss: 0.2757 - val_loss: 0.2776\n",
            "Epoch 31/100\n",
            "117/117 [==============================] - 0s 1ms/step - loss: 0.2734 - val_loss: 0.2734\n",
            "Epoch 32/100\n",
            "117/117 [==============================] - 0s 1ms/step - loss: 0.2678 - val_loss: 0.2871\n",
            "Epoch 33/100\n",
            "117/117 [==============================] - 0s 1ms/step - loss: 0.2672 - val_loss: 0.2879\n",
            "Epoch 34/100\n",
            "117/117 [==============================] - 0s 1ms/step - loss: 0.2752 - val_loss: 0.2942\n",
            "Epoch 35/100\n",
            "117/117 [==============================] - 0s 1ms/step - loss: 0.2672 - val_loss: 0.2766\n",
            "Epoch 36/100\n",
            "117/117 [==============================] - 0s 1ms/step - loss: 0.2730 - val_loss: 0.3001\n",
            "Epoch 37/100\n",
            "117/117 [==============================] - 0s 1ms/step - loss: 0.2635 - val_loss: 0.2886\n",
            "Epoch 38/100\n",
            "117/117 [==============================] - 0s 1ms/step - loss: 0.2706 - val_loss: 0.2994\n",
            "Epoch 39/100\n",
            "117/117 [==============================] - 0s 1ms/step - loss: 0.2654 - val_loss: 0.2764\n",
            "Epoch 40/100\n",
            "117/117 [==============================] - 0s 1ms/step - loss: 0.2612 - val_loss: 0.2868\n",
            "Epoch 41/100\n",
            "117/117 [==============================] - 0s 1ms/step - loss: 0.2617 - val_loss: 0.2834\n",
            "Epoch 42/100\n",
            "117/117 [==============================] - 0s 1ms/step - loss: 0.2726 - val_loss: 0.2767\n",
            "Epoch 43/100\n",
            "117/117 [==============================] - 0s 1ms/step - loss: 0.2679 - val_loss: 0.2808\n",
            "Epoch 44/100\n",
            "117/117 [==============================] - 0s 1ms/step - loss: 0.2699 - val_loss: 0.2773\n",
            "Epoch 45/100\n",
            "117/117 [==============================] - 0s 1ms/step - loss: 0.2704 - val_loss: 0.2842\n",
            "Epoch 46/100\n",
            "117/117 [==============================] - 0s 1ms/step - loss: 0.2661 - val_loss: 0.2808\n",
            "Epoch 47/100\n",
            "117/117 [==============================] - 0s 1ms/step - loss: 0.2613 - val_loss: 0.2862\n",
            "Epoch 48/100\n",
            "117/117 [==============================] - 0s 1ms/step - loss: 0.2640 - val_loss: 0.2910\n",
            "Epoch 49/100\n",
            "117/117 [==============================] - 0s 1ms/step - loss: 0.2633 - val_loss: 0.2856\n",
            "Epoch 50/100\n",
            "117/117 [==============================] - 0s 1ms/step - loss: 0.2601 - val_loss: 0.2748\n",
            "Epoch 51/100\n",
            "117/117 [==============================] - 0s 1ms/step - loss: 0.2601 - val_loss: 0.2839\n",
            "Epoch 52/100\n",
            "117/117 [==============================] - 0s 1ms/step - loss: 0.2625 - val_loss: 0.3155\n",
            "Epoch 53/100\n",
            "117/117 [==============================] - 0s 1ms/step - loss: 0.2579 - val_loss: 0.3088\n",
            "Epoch 54/100\n",
            "117/117 [==============================] - 0s 1ms/step - loss: 0.2632 - val_loss: 0.2754\n",
            "Epoch 55/100\n",
            "117/117 [==============================] - 0s 1ms/step - loss: 0.2619 - val_loss: 0.2830\n",
            "Epoch 56/100\n",
            "117/117 [==============================] - 0s 1ms/step - loss: 0.2543 - val_loss: 0.2720\n",
            "Epoch 57/100\n",
            "117/117 [==============================] - 0s 1ms/step - loss: 0.2585 - val_loss: 0.2867\n",
            "Epoch 58/100\n",
            "117/117 [==============================] - 0s 1ms/step - loss: 0.2577 - val_loss: 0.2841\n",
            "Epoch 59/100\n",
            "117/117 [==============================] - 0s 1ms/step - loss: 0.2592 - val_loss: 0.2798\n",
            "Epoch 60/100\n",
            "117/117 [==============================] - 0s 1ms/step - loss: 0.2556 - val_loss: 0.2864\n",
            "Epoch 61/100\n",
            "117/117 [==============================] - 0s 1ms/step - loss: 0.2541 - val_loss: 0.3043\n",
            "Epoch 62/100\n",
            "117/117 [==============================] - 0s 1ms/step - loss: 0.2615 - val_loss: 0.2707\n",
            "Epoch 63/100\n",
            "117/117 [==============================] - 0s 1ms/step - loss: 0.2514 - val_loss: 0.2762\n",
            "Epoch 64/100\n",
            "117/117 [==============================] - 0s 1ms/step - loss: 0.2521 - val_loss: 0.2730\n",
            "Epoch 65/100\n",
            "117/117 [==============================] - 0s 1ms/step - loss: 0.2526 - val_loss: 0.2909\n",
            "Epoch 66/100\n",
            "117/117 [==============================] - 0s 2ms/step - loss: 0.2533 - val_loss: 0.2799\n",
            "Epoch 67/100\n",
            "117/117 [==============================] - 0s 2ms/step - loss: 0.2586 - val_loss: 0.2746\n",
            "Epoch 68/100\n",
            "117/117 [==============================] - 0s 1ms/step - loss: 0.2513 - val_loss: 0.2739\n",
            "Epoch 69/100\n",
            "117/117 [==============================] - 0s 3ms/step - loss: 0.2554 - val_loss: 0.3561\n",
            "Epoch 70/100\n",
            "117/117 [==============================] - 0s 2ms/step - loss: 0.2611 - val_loss: 0.2843\n",
            "Epoch 71/100\n",
            "117/117 [==============================] - 0s 2ms/step - loss: 0.2532 - val_loss: 0.2854\n",
            "Epoch 72/100\n",
            "117/117 [==============================] - 0s 1ms/step - loss: 0.2631 - val_loss: 0.2789\n",
            "Epoch 73/100\n",
            "117/117 [==============================] - 0s 1ms/step - loss: 0.3198 - val_loss: 0.3631\n",
            "Epoch 74/100\n",
            "117/117 [==============================] - 0s 2ms/step - loss: 0.3446 - val_loss: 0.2919\n",
            "Epoch 75/100\n",
            "117/117 [==============================] - 0s 1ms/step - loss: 0.2693 - val_loss: 0.2802\n",
            "Epoch 76/100\n",
            "117/117 [==============================] - 0s 1ms/step - loss: 0.2590 - val_loss: 0.2900\n",
            "Epoch 77/100\n",
            "117/117 [==============================] - 0s 1ms/step - loss: 0.2533 - val_loss: 0.2773\n",
            "Epoch 78/100\n",
            "117/117 [==============================] - 0s 2ms/step - loss: 0.2561 - val_loss: 0.2796\n",
            "Epoch 79/100\n",
            "117/117 [==============================] - 0s 2ms/step - loss: 0.2787 - val_loss: 0.2890\n",
            "Epoch 80/100\n",
            "117/117 [==============================] - 0s 1ms/step - loss: 0.2665 - val_loss: 0.2883\n",
            "Epoch 81/100\n",
            "117/117 [==============================] - 0s 1ms/step - loss: 0.2626 - val_loss: 0.2963\n",
            "Epoch 82/100\n",
            "117/117 [==============================] - 0s 1ms/step - loss: 0.2613 - val_loss: 0.2775\n",
            "Epoch 83/100\n",
            "117/117 [==============================] - 0s 1ms/step - loss: 0.2566 - val_loss: 0.3160\n",
            "Epoch 84/100\n",
            "117/117 [==============================] - 0s 1ms/step - loss: 0.2685 - val_loss: 0.2888\n",
            "Epoch 85/100\n",
            "117/117 [==============================] - 0s 1ms/step - loss: 0.2583 - val_loss: 0.2825\n",
            "Epoch 86/100\n",
            "117/117 [==============================] - 0s 1ms/step - loss: 0.2576 - val_loss: 0.2934\n",
            "Epoch 87/100\n",
            "117/117 [==============================] - 0s 1ms/step - loss: 0.2572 - val_loss: 0.2796\n",
            "Epoch 88/100\n",
            "117/117 [==============================] - 0s 1ms/step - loss: 0.2533 - val_loss: 0.2795\n",
            "Epoch 89/100\n",
            "117/117 [==============================] - 0s 1ms/step - loss: 0.2562 - val_loss: 0.2803\n",
            "Epoch 90/100\n",
            "117/117 [==============================] - 0s 1ms/step - loss: 0.2540 - val_loss: 0.3203\n",
            "Epoch 91/100\n",
            "117/117 [==============================] - 0s 1ms/step - loss: 0.2617 - val_loss: 0.3248\n",
            "Epoch 92/100\n",
            "117/117 [==============================] - 0s 1ms/step - loss: 0.2546 - val_loss: 0.2790\n",
            "Epoch 93/100\n",
            "117/117 [==============================] - 0s 1ms/step - loss: 0.2542 - val_loss: 0.2779\n",
            "Epoch 94/100\n",
            "117/117 [==============================] - 0s 1ms/step - loss: 0.2529 - val_loss: 0.2916\n",
            "Epoch 95/100\n",
            "117/117 [==============================] - 0s 3ms/step - loss: 0.2587 - val_loss: 0.2816\n",
            "Epoch 96/100\n",
            "117/117 [==============================] - 0s 1ms/step - loss: 0.2551 - val_loss: 0.3005\n",
            "Epoch 97/100\n",
            "117/117 [==============================] - 0s 1ms/step - loss: 0.2598 - val_loss: 0.2717\n",
            "Epoch 98/100\n",
            "117/117 [==============================] - 0s 1ms/step - loss: 0.2478 - val_loss: 0.2807\n",
            "Epoch 99/100\n",
            "117/117 [==============================] - 0s 1ms/step - loss: 0.2451 - val_loss: 0.2762\n",
            "Epoch 100/100\n",
            "117/117 [==============================] - 0s 1ms/step - loss: 0.2570 - val_loss: 0.2973\n",
            "162/162 [==============================] - 0s 694us/step - loss: 0.3124\n"
          ]
        },
        {
          "data": {
            "image/png": "[encoded data removed]",
            "text/plain": [
              "<Figure size 432x288 with 1 Axes>"
            ]
          },
          "metadata": {
            "needs_background": "light"
          },
          "output_type": "display_data"
        }
      ],
      "source": [
        "# Model. Or whatevs. \n",
        "normalizer = tf.keras.layers.Normalization(axis=-1)\n",
        "normalizer.adapt(np.array(X_train))\n",
        "\n",
        "model = Sequential()\n",
        "model.add(normalizer)\n",
        "model.add(Dense(15, input_shape=(8,), activation='relu'))\n",
        "model.add(Dense(15, activation='relu'))\n",
        "model.add(Dense(15, activation='relu'))\n",
        "model.add(Dense(15, activation='relu'))\n",
        "model.add(Dense(15, activation='relu'))\n",
        "model.add(Dense(15, activation='relu'))\n",
        "model.add(Dense(1))\n",
        "\n",
        "model.compile(loss='mean_squared_error', optimizer=tf.optimizers.Adam(learning_rate=.01))\n",
        "\n",
        "train_log = model.fit(X_train, y_train, epochs=100, batch_size=100, validation_split=.25, verbose=1)\n",
        "model.evaluate(X_test, y_test)\n",
        "plot_loss(train_log)"
      ]
    },
    {
      "attachments": {},
      "cell_type": "markdown",
      "metadata": {
        "id": "oUfNO6HeZVRb"
      },
      "source": [
        "## Basics of Overfitting and Underfitting in Neural Networks\n",
        "\n",
        "Just like any other type of model, our primary task in trying to attain an accurate set of predictions is to balance the overfitting and underfitting. In a neural network, the ideas are the same as with standard models, however the tools and their usage can differ slightly. \n",
        "\n",
        "### Add Data\n",
        "\n",
        "Adding data to the training set is the number one way to improve accuracy. As noted above, neural networks are commonly able to acheive very high accuracy levels if provided with very large training sets. For smaller datasets, the probability of a neural network being the best model is much lower than with big data. There isn't a replacement for having large amounts of data (though there are a few tricks that we'll look at later), and modern large neural networks are (usually) the best tool that is able to take advantage of all that data. \n",
        "\n",
        "In the near future we'll look at some common pre-trained models that people/orgs such as Google have shared, most notably ones that do things like image recognition. These models are typically trained on really large datasets - often 10s of GB or more. This massive amount of training data allows these models to be more accurate than anything that we could create, but would be unrealistic for most people to train just due to the processing power and time needed. We can take them and adjust them a bit to our needs though...\n",
        "\n",
        "<b>By far, the most universally beneficial way to make a neural network more accurate is to add more (good) data.</b>\n",
        "\n",
        "### Model Capacity\n",
        "\n",
        "The model capacity is the \"size\" of the model - refering to the combination of the number of neurons on each layer and the number of layers. In general the larger a feature set is, the larger a capacity we will need to be able to avoid underfitting and make accurate predictions. However, similar to a decision tree, if the model becomes too large for the data, we are likely to overfit. \n",
        "\n",
        "In big data scenarios (e.g. Google or Tesla training image recognition models) the feature sets can be massive (e.g. a 5 megapixel image is at least 15 million features) so the networks used have a very high capacity. Because there is a lot of training data, the model is able to have a huge capacity, but not overfit. These models can take FOREVER to process (e.g. weeks with the work paralellized on dedicated and fast machines) but they are able to make very accurate predictions since they get all the \"benefits\" of overfitting - predictions highly tailored to the training data; along with all the \"benefits\" of underfitting - since there is so much training data, they are still generalized enough to predict new data. There is something of an open question on if we should expand capacity by making the layers larger with more neurons, or by adding more layers. Like most things, the answer is whatever is tested to be best for the specific problem. In general though, more layers seems to be better for most problems, and the neural networks that excel at things such as image recognition tend to be deep learning networks - those with many layers. The combination of large datasets, deep networks, and fast processing allows for most of the modern AI that we see or interact with. \n",
        "\n",
        "<b>Note:</b> the size numbers that we specify as we add layers is the size of the output (other than the \"input_dim\" we have on the first layer). For other layers, the input of one just adapts to the output of the previous layer.\n",
        "\n",
        "#### Capacities, For Now\n",
        "\n",
        "We will look more at the model capacities in the next section, for now we can follow a few rough guidelines:\n",
        "<ul>\n",
        "<li> Input layer output size is between the # of features, and some multiple (maybe up to ~5 max) of the # of features. \n",
        "<li> Output layer is defined by the target we are predicting.  \n",
        "<li> Hidden layers between the two either stay constant in size, or taper down. \n",
        "</ul>\n",
        "\n",
        "We will look at this more next time. Unfortunately there isn't a definitive rule that always works, the ultimate decision is based on results. For now, we can just make some reasonable models and observe the results. "
      ]
    },
    {
      "cell_type": "code",
      "execution_count": 42,
      "metadata": {
        "id": "OZWfGHNqZVRb",
        "outputId": "1e595b6c-0e69-477e-dc67-c505ef26ba74"
      },
      "outputs": [
        {
          "name": "stdout",
          "output_type": "stream",
          "text": [
            "Model: \"sequential_26\"\n",
            "_________________________________________________________________\n",
            " Layer (type)                Output Shape              Param #   \n",
            "=================================================================\n",
            " normalization_26 (Normaliza  (None, 18)               37        \n",
            " tion)                                                           \n",
            "                                                                 \n",
            " dense_100 (Dense)           (None, 128)               2432      \n",
            "                                                                 \n",
            " dense_101 (Dense)           (None, 128)               16512     \n",
            "                                                                 \n",
            " dense_102 (Dense)           (None, 128)               16512     \n",
            "                                                                 \n",
            " dense_103 (Dense)           (None, 128)               16512     \n",
            "                                                                 \n",
            " dense_104 (Dense)           (None, 1)                 129       \n",
            "                                                                 \n",
            "=================================================================\n",
            "Total params: 52,134\n",
            "Trainable params: 52,097\n",
            "Non-trainable params: 37\n",
            "_________________________________________________________________\n"
          ]
        }
      ],
      "source": [
        "#Test Different Model Capacities\n",
        "normalizer = tf.keras.layers.Normalization(axis=-1)\n",
        "normalizer.adapt(np.array(X_train))\n",
        "\n",
        "model = Sequential()\n",
        "model.add(normalizer)\n",
        "model.add(Dense(128, input_dim=18, activation='relu'))\n",
        "model.add(Dense(128, activation='relu'))\n",
        "model.add(Dense(128, activation='relu'))\n",
        "model.add(Dense(128, activation='relu'))\n",
        "model.add(Dense(1))\n",
        "model.summary()"
      ]
    },
    {
      "cell_type": "code",
      "execution_count": 36,
      "metadata": {
        "id": "WXjXrQEeZVRb",
        "outputId": "7d25815a-6f32-4c0d-c89b-a255ff13816f"
      },
      "outputs": [
        {
          "name": "stdout",
          "output_type": "stream",
          "text": [
            "162/162 [==============================] - 0s 830us/step - loss: 0.3528\n"
          ]
        },
        {
          "data": {
            "image/png": "[encoded data removed]",
            "text/plain": [
              "<Figure size 432x288 with 1 Axes>"
            ]
          },
          "metadata": {
            "needs_background": "light"
          },
          "output_type": "display_data"
        }
      ],
      "source": [
        "model.compile(loss='mean_absolute_error', optimizer=tf.optimizers.Adam(learning_rate=.01))\n",
        "train_log = model.fit(X_train, y_train, epochs=BASE_EPOCHS*2, batch_size=1000, validation_split=.2, verbose=0)\n",
        "model.evaluate(X_test, y_test)\n",
        "plot_loss(train_log)"
      ]
    },
    {
      "attachments": {},
      "cell_type": "markdown",
      "metadata": {
        "id": "tTocTQASZVRc"
      },
      "source": [
        "### Early Stopping\n",
        "\n",
        "Early stopping is very common with neural networks, due to the common pattern mentioned above of the optimal balance of over/under fitting occuring at some point within many, potentially dozens/hundreds/thousands, of epochs. Early stopping kills the process after it detects that validation loss is going back up. \n",
        "\n",
        "We can put early stopping in place by using a Keras function called a callback, which has odd syntax, but is quite simple to use. The patience pararmeter controls how many epcohs of worsening scores are tolerated before implementing the stop. The restore_best_weights tells the model to roll back all of its weights to the optimal point - so we automatically get the best model post-training. In most cases we probabyl want to use early stopping along with a high epoch number. We can let the model train, and just tell us when it is finished. \n",
        "\n",
        "Another parameter that we may want to implement is the \"min_delta\" parameter. This controls how much the validation loss needs to improve to be considered an improvement. If the validation loss is 0.1, and the min_delta is 0.01, then the model will stop if the validation loss goes up to 0.11, but not if it goes up to 0.12. This is useful if we have a very small validation loss, and we want to make sure that we are getting a significant improvement before stopping. In situations like the above one, where the loss is flat-ish, but bumps around a little, this may help deal with that noise and make the early stopping cutoffs work more in line with expectations.\n",
        "\n",
        "<b>Note:</b> the patience parameter requires a little bit of thought, and a good value can vary a little between scenarios. We want to make sure that we are not stopping too early, if the patience is really small, we might get a situation where a local minima is reached and we stop the model as it is trying to escape it. If the patience is too large, we might not stop the model in time, as we might have many flat loss values, then one or two that are an improvement, resetting the clock and making the training process keep going far too long. We need to base it somewhat on what the model actually does - very stable loss results might mean we need a higher patience, while a model that is very volatile might need a lower patience, as we might not have long stable periods anywhere. Values between 5 and 15 or so are common, as are settings of around 10% of the number of epochs, but it is a good idea to test a few different values to see what works best - if you actually work with larger examples we'll run several trials with different parameters or model configurations with samples of the full dataset. These trials will likely give us an idea of a reasonable cutoff point for patience. Many of the patience settings in examples that are in the next few workbooks are probably lower than \"ideal\", this is entirely for practicality purposes - we might be cutting off some slightly more ideal models, but we are also saving a lot of time."
      ]
    },
    {
      "cell_type": "code",
      "execution_count": 37,
      "metadata": {
        "id": "b0MYLfTBZVRc"
      },
      "outputs": [],
      "source": [
        "normalizer = tf.keras.layers.Normalization(axis=-1)\n",
        "normalizer.adapt(np.array(X_train))\n",
        "\n",
        "model = Sequential()\n",
        "model.add(normalizer)\n",
        "model.add(Dense(18, input_dim=18, activation='relu'))\n",
        "model.add(Dense(18, activation='relu'))\n",
        "model.add(Dense(18, activation='relu'))\n",
        "model.add(Dense(1))\n",
        "#model.summary()"
      ]
    },
    {
      "cell_type": "code",
      "execution_count": 38,
      "metadata": {
        "id": "SFlOi1yGZVRc",
        "outputId": "256f7158-b58b-48b4-d17e-877c40d84201"
      },
      "outputs": [
        {
          "name": "stdout",
          "output_type": "stream",
          "text": [
            "Epoch 1/300\n",
            "248/248 [==============================] - 1s 3ms/step - loss: 0.5566 - val_loss: 0.4662\n",
            "Epoch 2/300\n",
            "248/248 [==============================] - 0s 1ms/step - loss: 0.4376 - val_loss: 0.4176\n",
            "Epoch 3/300\n",
            "248/248 [==============================] - 0s 1ms/step - loss: 0.4198 - val_loss: 0.3974\n",
            "Epoch 4/300\n",
            "248/248 [==============================] - 0s 1ms/step - loss: 0.4095 - val_loss: 0.4180\n",
            "Epoch 5/300\n",
            "248/248 [==============================] - 0s 1ms/step - loss: 0.3983 - val_loss: 0.3848\n",
            "Epoch 6/300\n",
            "248/248 [==============================] - 0s 2ms/step - loss: 0.3913 - val_loss: 0.3861\n",
            "Epoch 7/300\n",
            "248/248 [==============================] - 1s 2ms/step - loss: 0.3872 - val_loss: 0.3778\n",
            "Epoch 8/300\n",
            "248/248 [==============================] - 1s 2ms/step - loss: 0.3778 - val_loss: 0.3755\n",
            "Epoch 9/300\n",
            "248/248 [==============================] - 0s 2ms/step - loss: 0.3831 - val_loss: 0.3852\n",
            "Epoch 10/300\n",
            "248/248 [==============================] - 0s 1ms/step - loss: 0.3776 - val_loss: 0.4003\n",
            "Epoch 11/300\n",
            "248/248 [==============================] - 0s 1ms/step - loss: 0.3756 - val_loss: 0.3712\n",
            "Epoch 12/300\n",
            "248/248 [==============================] - 0s 1ms/step - loss: 0.3733 - val_loss: 0.3635\n",
            "Epoch 13/300\n",
            "248/248 [==============================] - 0s 1ms/step - loss: 0.3750 - val_loss: 0.3646\n",
            "Epoch 14/300\n",
            "248/248 [==============================] - 0s 1ms/step - loss: 0.3710 - val_loss: 0.3585\n",
            "Epoch 15/300\n",
            "248/248 [==============================] - 0s 1ms/step - loss: 0.3686 - val_loss: 0.3715\n",
            "Epoch 16/300\n",
            "248/248 [==============================] - 0s 1ms/step - loss: 0.3702 - val_loss: 0.3618\n",
            "Epoch 17/300\n",
            "248/248 [==============================] - 0s 2ms/step - loss: 0.3639 - val_loss: 0.3557\n",
            "Epoch 18/300\n",
            "248/248 [==============================] - 0s 2ms/step - loss: 0.3621 - val_loss: 0.3587\n",
            "Epoch 19/300\n",
            "248/248 [==============================] - 0s 1ms/step - loss: 0.3669 - val_loss: 0.3549\n",
            "Epoch 20/300\n",
            "248/248 [==============================] - 0s 1ms/step - loss: 0.3645 - val_loss: 0.3604\n",
            "Epoch 21/300\n",
            "248/248 [==============================] - 0s 1ms/step - loss: 0.3597 - val_loss: 0.3525\n",
            "Epoch 22/300\n",
            "248/248 [==============================] - 0s 2ms/step - loss: 0.3578 - val_loss: 0.3499\n",
            "Epoch 23/300\n",
            "248/248 [==============================] - 0s 1ms/step - loss: 0.3577 - val_loss: 0.3696\n",
            "Epoch 24/300\n",
            "248/248 [==============================] - 0s 1ms/step - loss: 0.3610 - val_loss: 0.3563\n",
            "Epoch 25/300\n",
            "248/248 [==============================] - 0s 1ms/step - loss: 0.3584 - val_loss: 0.3621\n",
            "Epoch 26/300\n",
            "248/248 [==============================] - 0s 1ms/step - loss: 0.3588 - val_loss: 0.3579\n",
            "Epoch 27/300\n",
            "248/248 [==============================] - 0s 1ms/step - loss: 0.3568 - val_loss: 0.3581\n",
            "Epoch 28/300\n",
            "248/248 [==============================] - 0s 1ms/step - loss: 0.3544 - val_loss: 0.3559\n",
            "Epoch 29/300\n",
            "248/248 [==============================] - 0s 1ms/step - loss: 0.3554 - val_loss: 0.3500\n",
            "Epoch 30/300\n",
            "248/248 [==============================] - 0s 1ms/step - loss: 0.3550 - val_loss: 0.3402\n",
            "Epoch 31/300\n",
            "248/248 [==============================] - 0s 1ms/step - loss: 0.3546 - val_loss: 0.3519\n",
            "Epoch 32/300\n",
            "248/248 [==============================] - 0s 1ms/step - loss: 0.3555 - val_loss: 0.3414\n",
            "Epoch 33/300\n",
            "248/248 [==============================] - 0s 1ms/step - loss: 0.3529 - val_loss: 0.3558\n",
            "Epoch 34/300\n",
            "248/248 [==============================] - 0s 1ms/step - loss: 0.3486 - val_loss: 0.3549\n",
            "Epoch 35/300\n",
            "248/248 [==============================] - 0s 1ms/step - loss: 0.3534 - val_loss: 0.3472\n",
            "Epoch 36/300\n",
            "248/248 [==============================] - 0s 1ms/step - loss: 0.3510 - val_loss: 0.3472\n",
            "Epoch 37/300\n",
            "248/248 [==============================] - 0s 2ms/step - loss: 0.3496 - val_loss: 0.3398\n",
            "Epoch 38/300\n",
            "248/248 [==============================] - 0s 1ms/step - loss: 0.3500 - val_loss: 0.3444\n",
            "Epoch 39/300\n",
            "248/248 [==============================] - 0s 1ms/step - loss: 0.3510 - val_loss: 0.3661\n",
            "Epoch 40/300\n",
            "248/248 [==============================] - 0s 1ms/step - loss: 0.3489 - val_loss: 0.3564\n",
            "Epoch 41/300\n",
            "248/248 [==============================] - 0s 2ms/step - loss: 0.3481 - val_loss: 0.3425\n",
            "Epoch 42/300\n",
            "248/248 [==============================] - 0s 1ms/step - loss: 0.3467 - val_loss: 0.3550\n",
            "Epoch 43/300\n",
            "248/248 [==============================] - 0s 1ms/step - loss: 0.3445 - val_loss: 0.3434\n",
            "Epoch 44/300\n",
            "248/248 [==============================] - 0s 1ms/step - loss: 0.3447 - val_loss: 0.3522\n",
            "Epoch 45/300\n",
            "248/248 [==============================] - 0s 1ms/step - loss: 0.3492 - val_loss: 0.3626\n",
            "Epoch 46/300\n",
            "248/248 [==============================] - 0s 2ms/step - loss: 0.3453 - val_loss: 0.3404\n",
            "Epoch 47/300\n",
            "248/248 [==============================] - 0s 1ms/step - loss: 0.3409 - val_loss: 0.3487\n",
            "Epoch 48/300\n",
            "248/248 [==============================] - 0s 1ms/step - loss: 0.3431 - val_loss: 0.3461\n",
            "Epoch 49/300\n",
            "248/248 [==============================] - 0s 1ms/step - loss: 0.3435 - val_loss: 0.3385\n",
            "Epoch 50/300\n",
            "248/248 [==============================] - 0s 2ms/step - loss: 0.3435 - val_loss: 0.3370\n",
            "Epoch 51/300\n",
            "248/248 [==============================] - 0s 2ms/step - loss: 0.3476 - val_loss: 0.3422\n",
            "162/162 [==============================] - 0s 1ms/step - loss: 0.4848\n"
          ]
        },
        {
          "data": {
            "image/png": "[encoded data removed]",
            "text/plain": [
              "<Figure size 432x288 with 1 Axes>"
            ]
          },
          "metadata": {
            "needs_background": "light"
          },
          "output_type": "display_data"
        }
      ],
      "source": [
        "callback = tf.keras.callbacks.EarlyStopping(monitor='loss', patience=50, restore_best_weights=True, min_delta=1000) \n",
        "\n",
        "model.compile(loss='mean_absolute_error', optimizer=tf.optimizers.Adam(learning_rate=.01))\n",
        "train_log = model.fit(X_train, y_train, epochs=BASE_EPOCHS*3, batch_size=50, validation_split=.2, verbose=1, callbacks=[callback])\n",
        "model.evaluate(X_test, y_test)\n",
        "plot_loss(train_log)"
      ]
    },
    {
      "attachments": {},
      "cell_type": "markdown",
      "metadata": {},
      "source": [
        "### Validation\n",
        "\n",
        "One change in the way we normally setup our data in neural networks is that we are performing checks during the training process with \"validation data\". This is another split of the data, like train-test, but this validation data is used during training to check the model's progress. This allows the model to constantly calculate the accuracy of the model on new data, similar to how things would work inside of a cross-validation in a grid search. The key thing that we can use this for is that it allows us to calculate the current \"test data\" performance, which is the \"validation loss\" that we can use to evaluate the model and cut short training. This validation dataset is normally \"good enough\" to be an indicator of the expected performance of the model, just like the test scores we are used to. We could still do a train-test split prior to training, and calcuate that true test accuracy, but we don't really need to. In most cases, what we referred to as test accuracy in sklearn models is just the validation accuracy in neural networks.\n",
        "\n",
        "### Early Stopping on Validation Loss\n",
        "\n",
        "More likely than stopping when the training loss starts to increase, we'll want to stop when the validation loss starts to increase. This is because the validation loss is a better indicator of how the model will perform on new data. This is also what allows us to set a high epoch number and walk away while training happens - as long as our model has \"room to grow\", or the capacity to fit the data, we can let it train until we've reached a minimum validation loss.\n",
        "\n",
        "![Early Stopping](images/early_stopping.png \"Early Stopping\")\n",
        "\n",
        "<b>Note:</b> early stopping on the validation loss will probably be the most common \"optimization\" that we'll do. "
      ]
    },
    {
      "cell_type": "code",
      "execution_count": 39,
      "metadata": {},
      "outputs": [
        {
          "name": "stdout",
          "output_type": "stream",
          "text": [
            "Epoch 1/300\n",
            "217/217 [==============================] - 1s 2ms/step - loss: 0.4429 - val_loss: 0.4148\n",
            "Epoch 2/300\n",
            "217/217 [==============================] - 0s 1ms/step - loss: 0.4244 - val_loss: 0.4164\n",
            "Epoch 3/300\n",
            "217/217 [==============================] - 0s 2ms/step - loss: 0.4070 - val_loss: 0.3965\n",
            "Epoch 4/300\n",
            "217/217 [==============================] - 0s 2ms/step - loss: 0.3970 - val_loss: 0.3872\n",
            "Epoch 5/300\n",
            "217/217 [==============================] - 0s 2ms/step - loss: 0.3945 - val_loss: 0.3789\n",
            "Epoch 6/300\n",
            "217/217 [==============================] - 0s 2ms/step - loss: 0.3879 - val_loss: 0.3809\n",
            "Epoch 7/300\n",
            "217/217 [==============================] - 0s 2ms/step - loss: 0.3826 - val_loss: 0.3720\n",
            "Epoch 8/300\n",
            "217/217 [==============================] - 0s 1ms/step - loss: 0.3847 - val_loss: 0.3662\n",
            "Epoch 9/300\n",
            "217/217 [==============================] - 0s 1ms/step - loss: 0.3744 - val_loss: 0.3679\n",
            "Epoch 10/300\n",
            "217/217 [==============================] - 0s 1ms/step - loss: 0.3751 - val_loss: 0.3854\n",
            "Epoch 11/300\n",
            "217/217 [==============================] - 0s 1ms/step - loss: 0.3775 - val_loss: 0.3845\n",
            "Epoch 12/300\n",
            "217/217 [==============================] - 0s 1ms/step - loss: 0.3697 - val_loss: 0.3714\n",
            "Epoch 13/300\n",
            "217/217 [==============================] - 0s 1ms/step - loss: 0.3668 - val_loss: 0.3648\n",
            "Epoch 14/300\n",
            "217/217 [==============================] - 0s 1ms/step - loss: 0.3676 - val_loss: 0.3806\n",
            "Epoch 15/300\n",
            "217/217 [==============================] - 0s 1ms/step - loss: 0.3646 - val_loss: 0.3608\n",
            "Epoch 16/300\n",
            "217/217 [==============================] - 0s 1ms/step - loss: 0.3589 - val_loss: 0.3581\n",
            "Epoch 17/300\n",
            "217/217 [==============================] - 0s 1ms/step - loss: 0.3597 - val_loss: 0.3541\n",
            "Epoch 18/300\n",
            "217/217 [==============================] - 0s 1ms/step - loss: 0.3615 - val_loss: 0.3647\n",
            "Epoch 19/300\n",
            "217/217 [==============================] - 0s 1ms/step - loss: 0.3550 - val_loss: 0.3693\n",
            "Epoch 20/300\n",
            "217/217 [==============================] - 0s 1ms/step - loss: 0.3535 - val_loss: 0.3536\n",
            "Epoch 21/300\n",
            "217/217 [==============================] - 0s 1ms/step - loss: 0.3575 - val_loss: 0.3636\n",
            "Epoch 22/300\n",
            "217/217 [==============================] - 0s 1ms/step - loss: 0.3551 - val_loss: 0.3664\n",
            "Epoch 23/300\n",
            "217/217 [==============================] - 0s 1ms/step - loss: 0.3547 - val_loss: 0.3535\n",
            "Epoch 24/300\n",
            "217/217 [==============================] - 0s 1ms/step - loss: 0.3493 - val_loss: 0.3525\n",
            "Epoch 25/300\n",
            "217/217 [==============================] - 0s 1ms/step - loss: 0.3515 - val_loss: 0.3567\n",
            "Epoch 26/300\n",
            "217/217 [==============================] - 0s 1ms/step - loss: 0.3474 - val_loss: 0.3531\n",
            "Epoch 27/300\n",
            "217/217 [==============================] - 0s 1ms/step - loss: 0.3495 - val_loss: 0.3540\n",
            "Epoch 28/300\n",
            "217/217 [==============================] - 0s 1ms/step - loss: 0.3521 - val_loss: 0.3502\n",
            "Epoch 29/300\n",
            "217/217 [==============================] - 0s 1ms/step - loss: 0.3486 - val_loss: 0.3465\n",
            "Epoch 30/300\n",
            "217/217 [==============================] - 0s 1ms/step - loss: 0.3508 - val_loss: 0.3571\n",
            "Epoch 31/300\n",
            "217/217 [==============================] - 0s 1ms/step - loss: 0.3475 - val_loss: 0.3707\n",
            "Epoch 32/300\n",
            "217/217 [==============================] - 0s 1ms/step - loss: 0.3459 - val_loss: 0.3744\n",
            "Epoch 33/300\n",
            "217/217 [==============================] - 0s 1ms/step - loss: 0.3472 - val_loss: 0.3522\n",
            "Epoch 34/300\n",
            "217/217 [==============================] - 0s 1ms/step - loss: 0.3438 - val_loss: 0.3483\n",
            "Epoch 35/300\n",
            "217/217 [==============================] - 0s 1ms/step - loss: 0.3428 - val_loss: 0.3455\n",
            "Epoch 36/300\n",
            "217/217 [==============================] - 0s 1ms/step - loss: 0.3433 - val_loss: 0.3450\n",
            "Epoch 37/300\n",
            "217/217 [==============================] - 0s 1ms/step - loss: 0.3421 - val_loss: 0.3491\n",
            "Epoch 38/300\n",
            "217/217 [==============================] - 0s 1ms/step - loss: 0.3427 - val_loss: 0.3484\n",
            "Epoch 39/300\n",
            "217/217 [==============================] - 0s 1ms/step - loss: 0.3399 - val_loss: 0.3396\n",
            "Epoch 40/300\n",
            "217/217 [==============================] - 0s 1ms/step - loss: 0.3420 - val_loss: 0.3533\n",
            "Epoch 41/300\n",
            "217/217 [==============================] - 0s 1ms/step - loss: 0.3451 - val_loss: 0.3451\n",
            "Epoch 42/300\n",
            "217/217 [==============================] - 0s 1ms/step - loss: 0.3382 - val_loss: 0.3442\n",
            "Epoch 43/300\n",
            "217/217 [==============================] - 0s 1ms/step - loss: 0.3402 - val_loss: 0.3506\n",
            "Epoch 44/300\n",
            "217/217 [==============================] - 0s 1ms/step - loss: 0.3433 - val_loss: 0.3508\n",
            "Epoch 45/300\n",
            "217/217 [==============================] - 0s 1ms/step - loss: 0.3388 - val_loss: 0.3462\n",
            "Epoch 46/300\n",
            "217/217 [==============================] - 0s 2ms/step - loss: 0.3400 - val_loss: 0.3390\n",
            "Epoch 47/300\n",
            "217/217 [==============================] - 0s 1ms/step - loss: 0.3386 - val_loss: 0.3526\n",
            "Epoch 48/300\n",
            "217/217 [==============================] - 0s 2ms/step - loss: 0.3384 - val_loss: 0.3593\n",
            "Epoch 49/300\n",
            "217/217 [==============================] - 0s 1ms/step - loss: 0.3391 - val_loss: 0.3386\n",
            "Epoch 50/300\n",
            "217/217 [==============================] - 0s 1ms/step - loss: 0.3427 - val_loss: 0.3490\n",
            "Epoch 51/300\n",
            "217/217 [==============================] - 0s 1ms/step - loss: 0.3377 - val_loss: 0.3485\n",
            "162/162 [==============================] - 0s 743us/step - loss: 0.4320\n"
          ]
        },
        {
          "data": {
            "image/png": "[encoded data removed]",
            "text/plain": [
              "<Figure size 432x288 with 1 Axes>"
            ]
          },
          "metadata": {
            "needs_background": "light"
          },
          "output_type": "display_data"
        }
      ],
      "source": [
        "callback = tf.keras.callbacks.EarlyStopping(monitor='val_loss', patience=50, restore_best_weights=True, min_delta=2000) \n",
        "\n",
        "model.compile(loss='mean_absolute_error', optimizer=tf.optimizers.Adam(learning_rate=.01))\n",
        "train_log = model.fit(X_train, y_train, epochs=BASE_EPOCHS*3, batch_size=50, validation_split=.3, verbose=1, callbacks=[callback])\n",
        "model.evaluate(X_test, y_test)\n",
        "plot_loss(train_log)"
      ]
    },
    {
      "cell_type": "markdown",
      "metadata": {
        "id": "ZXfwUFjSZVRc"
      },
      "source": [
        "### Regularization\n",
        "\n",
        "Like other linear models, we can implement regularization to help tame overfitting. \n",
        "\n",
        "We can use both L2 (Ridge) regularization that will limit growth of coefficients, and L1 (Lasso) regularization that is able to eliminate features by shrinking their coefficients to 0. The functionality is the same as we are used to, a regularization term is added to the loss, and the optimization, such as gradient descent, is then performed as normal. "
      ]
    },
    {
      "cell_type": "code",
      "execution_count": 43,
      "metadata": {
        "id": "cgwwVgJ6ZVRd",
        "outputId": "7c4c3e58-3c0a-42ef-b502-764d87747a75"
      },
      "outputs": [
        {
          "name": "stdout",
          "output_type": "stream",
          "text": [
            "Model: \"sequential_27\"\n",
            "_________________________________________________________________\n",
            " Layer (type)                Output Shape              Param #   \n",
            "=================================================================\n",
            " normalization_27 (Normaliza  (None, 18)               37        \n",
            " tion)                                                           \n",
            "                                                                 \n",
            " dense_105 (Dense)           (None, 128)               2432      \n",
            "                                                                 \n",
            " dense_106 (Dense)           (None, 128)               16512     \n",
            "                                                                 \n",
            " dense_107 (Dense)           (None, 128)               16512     \n",
            "                                                                 \n",
            " dense_108 (Dense)           (None, 1)                 129       \n",
            "                                                                 \n",
            "=================================================================\n",
            "Total params: 35,622\n",
            "Trainable params: 35,585\n",
            "Non-trainable params: 37\n",
            "_________________________________________________________________\n"
          ]
        }
      ],
      "source": [
        "# Regularization\n",
        "normalizer = tf.keras.layers.Normalization(axis=-1)\n",
        "normalizer.adapt(np.array(X_train))\n",
        "\n",
        "model = Sequential()\n",
        "model.add(normalizer)\n",
        "model.add(Dense(128, input_dim=18, activation='relu'))\n",
        "model.add(Dense(128, activation='relu', kernel_regularizer=\"l1\"))\n",
        "model.add(Dense(128, activation='relu', kernel_regularizer=\"l2\"))\n",
        "model.add(Dense(1))\n",
        "model.summary()"
      ]
    },
    {
      "cell_type": "code",
      "execution_count": 44,
      "metadata": {
        "id": "bnRVShe2ZVRd",
        "outputId": "fb5bbfba-efcd-4d12-ba31-427900c8da53"
      },
      "outputs": [
        {
          "name": "stdout",
          "output_type": "stream",
          "text": [
            "169/169 [==============================] - 0s 913us/step - loss: 69973.3906\n"
          ]
        },
        {
          "data": {
            "image/png": "[encoded data removed]",
            "text/plain": [
              "<Figure size 432x288 with 1 Axes>"
            ]
          },
          "metadata": {
            "needs_background": "light"
          },
          "output_type": "display_data"
        }
      ],
      "source": [
        "model.compile(loss='mean_absolute_error', optimizer=tf.optimizers.Adam(learning_rate=.01))\n",
        "train_log = model.fit(X_train, y_train, epochs=BASE_EPOCHS, batch_size=100, validation_split=.2, verbose=0)\n",
        "model.evaluate(X_test, y_test)\n",
        "plot_loss(train_log)"
      ]
    },
    {
      "attachments": {},
      "cell_type": "markdown",
      "metadata": {
        "id": "FXboQ7N2ZVRd"
      },
      "source": [
        "### Dropout\n",
        "\n",
        "Neural networks also commonly employ a technique call dropouts to prevent overfitting. This works just like the name says, every time the data is moved from one layer to another some portion of the features are randomly held out from being used. The intuitive explanation for dropout is that because individual nodes in the network cannot rely on the output of the others, each node must output features that are useful on their own. This sounds somewhat weird, but is actually effective. The number of features held out is called the dropout rate, typically between .2 and .5. \n",
        "\n",
        "![Dropout](images/dropout.webp \"Dropout\")\n",
        "\n",
        "An analogy can be drawn to the bootstrapping we looked at with trees - some random subset is selected each time, resulting in each batch getting \"a slightly different look at the data\", thus preventing overfitting. "
      ]
    },
    {
      "cell_type": "code",
      "execution_count": 45,
      "metadata": {
        "id": "gUJv1QPEZVRd",
        "outputId": "b6f5125b-b396-4dfd-9cd4-95d84f9c452e"
      },
      "outputs": [
        {
          "name": "stdout",
          "output_type": "stream",
          "text": [
            "Model: \"sequential_28\"\n",
            "_________________________________________________________________\n",
            " Layer (type)                Output Shape              Param #   \n",
            "=================================================================\n",
            " normalization_28 (Normaliza  (None, 18)               37        \n",
            " tion)                                                           \n",
            "                                                                 \n",
            " dense_109 (Dense)           (None, 512)               9728      \n",
            "                                                                 \n",
            " dense_110 (Dense)           (None, 512)               262656    \n",
            "                                                                 \n",
            " dropout (Dropout)           (None, 512)               0         \n",
            "                                                                 \n",
            " dense_111 (Dense)           (None, 512)               262656    \n",
            "                                                                 \n",
            " dropout_1 (Dropout)         (None, 512)               0         \n",
            "                                                                 \n",
            " dense_112 (Dense)           (None, 512)               262656    \n",
            "                                                                 \n",
            " dense_113 (Dense)           (None, 1)                 513       \n",
            "                                                                 \n",
            "=================================================================\n",
            "Total params: 798,246\n",
            "Trainable params: 798,209\n",
            "Non-trainable params: 37\n",
            "_________________________________________________________________\n"
          ]
        }
      ],
      "source": [
        "# Dropout\n",
        "#Test Different Model Capacities\n",
        "normalizer = tf.keras.layers.Normalization(axis=-1)\n",
        "normalizer.adapt(np.array(X_train))\n",
        "\n",
        "model = Sequential()\n",
        "model.add(normalizer)\n",
        "model.add(Dense(512, input_dim=18, activation='relu'))\n",
        "model.add(Dense(512, activation='relu'))\n",
        "model.add(Dropout(0.2))\n",
        "model.add(Dense(512, activation='relu'))\n",
        "model.add(Dropout(0.2))\n",
        "model.add(Dense(512, activation='relu'))\n",
        "model.add(Dense(1))\n",
        "model.summary()"
      ]
    },
    {
      "cell_type": "code",
      "execution_count": 46,
      "metadata": {
        "id": "EUJHDMXbZVRd",
        "outputId": "aff714cd-a820-49b3-8ede-e24737a275b7"
      },
      "outputs": [
        {
          "name": "stdout",
          "output_type": "stream",
          "text": [
            "169/169 [==============================] - 0s 2ms/step - loss: 77678.2891\n"
          ]
        },
        {
          "data": {
            "image/png": "[encoded data removed]",
            "text/plain": [
              "<Figure size 432x288 with 1 Axes>"
            ]
          },
          "metadata": {
            "needs_background": "light"
          },
          "output_type": "display_data"
        }
      ],
      "source": [
        "model.compile(loss='mean_absolute_error', optimizer=tf.optimizers.Adam(learning_rate=.01))\n",
        "train_log = model.fit(X_train, y_train, epochs=BASE_EPOCHS, batch_size=100, validation_split=.2, verbose=0)\n",
        "model.evaluate(X_test, y_test)\n",
        "plot_loss(train_log)"
      ]
    },
    {
      "cell_type": "markdown",
      "metadata": {
        "id": "1AkcKFzNZVRd"
      },
      "source": [
        "### Predictions\n",
        "\n",
        "Once the model is trained, using it is mostly familiar to us from the sklearn stuff. "
      ]
    },
    {
      "cell_type": "code",
      "execution_count": 47,
      "metadata": {
        "id": "S-jw_zjdZVRe",
        "outputId": "0a3fbf07-c78c-4bea-fa3e-652875330375"
      },
      "outputs": [
        {
          "name": "stdout",
          "output_type": "stream",
          "text": [
            "169/169 [==============================] - 0s 2ms/step\n"
          ]
        },
        {
          "data": {
            "text/plain": [
              "77678.29840742968"
            ]
          },
          "execution_count": 47,
          "metadata": {},
          "output_type": "execute_result"
        }
      ],
      "source": [
        "preds = model.predict(X_test)\n",
        "mean_absolute_error(y_test, preds)\n"
      ]
    },
    {
      "cell_type": "markdown",
      "metadata": {
        "id": "5t9YyxGjZVRe"
      },
      "source": [
        "### Exercise\n",
        "\n",
        "Use the California data from previously and try to add some regularization things."
      ]
    },
    {
      "cell_type": "code",
      "execution_count": null,
      "metadata": {},
      "outputs": [],
      "source": [
        "print(X_train_cal.shape, y_train_cal.shape)"
      ]
    },
    {
      "attachments": {},
      "cell_type": "markdown",
      "metadata": {},
      "source": [
        "I'll mix in a couple of regularization things, this could be almost anything. "
      ]
    },
    {
      "cell_type": "code",
      "execution_count": null,
      "metadata": {
        "id": "yGstyyzcZVRe"
      },
      "outputs": [],
      "source": [
        "# Dropout\n",
        "#Test Different Model Capacities\n"
      ]
    },
    {
      "attachments": {},
      "cell_type": "markdown",
      "metadata": {
        "id": "FXYC8NGfZVRe"
      },
      "source": [
        "### Customized Loss\n",
        "\n",
        "Most scenarios are totally fine with a standard loss function, but what if we have something odd? What if we are playing on The Price is Right? We want to get as close as we can, without going over. We can write a loss function to mirror that! The Keras backend piece is basically a set of functions (like the \"switch\" we used, mean, sum, etc...) that are implemented in Tensorflow - they don't do anything differently from \"normal\" functions, but they are potentially more efficient.\n",
        "\n",
        "More practically, some real life scenarios have a disperse impact of different types of error. For example, if you are working for a call centre and predicting the number of agents to staff. Having slightly too many may be an error that costs a little bit of money, but not that big of a deal. Predicting too few might incur serious penalties if callers wait and you violate an SLA. Being off in one direction is bad, being off in the other direction can cause you to \"fall off of a cliff\" so to speak. In cases where the impact of the error is not uniform, custom loss functions may make sense. \n",
        "\n",
        "<b>Note:</b> these custom loss functions work, but if you are going to put one into real use, you would likely want to look into ensuring the calculations are efficient and that you actually get a tangible benefit from the custom loss function. This one is kind of a goofy example, we will normally just want to use a standard loss function. Due to the wild differences if the residual is positive or negative, this one will likely yeild some pretty dramatic swings and variability. "
      ]
    },
    {
      "cell_type": "markdown",
      "metadata": {
        "id": "hyN6IYzbZVRe"
      },
      "source": [
        "## Optional Exercise\n",
        "\n",
        "Try to use the California data with a customized loss function. \n",
        "\n",
        "Note: this is a 20 way classification, so you'll probably want that many neurons on the output layer, an appropriate activation (softmax), and the y values will need to be run through np_utils.to_categorical. As well, think about the loss function, try categorical crossentropy.\n",
        "\n",
        "We'll look at activation and loss functions more next week. "
      ]
    },
    {
      "cell_type": "code",
      "execution_count": null,
      "metadata": {
        "id": "GNjj1-aHZVRe"
      },
      "outputs": [],
      "source": [
        "import keras.backend as K\n",
        "\n",
        "def priceIsRight(y_true, y_pred):\n",
        "    return K.switch(\n",
        "                    y_pred <= y_true, \n",
        "                    (y_true - y_pred) ** 2,\n",
        "                    (y_true - y_pred) ** 4\n",
        "                    )"
      ]
    },
    {
      "cell_type": "code",
      "execution_count": null,
      "metadata": {},
      "outputs": [],
      "source": [
        "# Use Custom Function "
      ]
    },
    {
      "cell_type": "markdown",
      "metadata": {
        "id": "sAEhLMc6ZVRe"
      },
      "source": [
        "## Big Exercise - Newsgroup Classification\n",
        "\n",
        "Try to classify the newsgroup data. "
      ]
    },
    {
      "cell_type": "code",
      "execution_count": null,
      "metadata": {
        "id": "pCHlBNRQZVRe"
      },
      "outputs": [],
      "source": [
        "from sklearn.datasets import fetch_20newsgroups\n",
        "from sklearn.feature_extraction.text import TfidfVectorizer\n",
        "from sklearn.decomposition import TruncatedSVD\n",
        "\n",
        "remove = (\"headers\", \"footers\", \"quotes\")\n",
        "\n",
        "data_train = fetch_20newsgroups(\n",
        "    subset=\"train\", shuffle=True, remove=remove)\n",
        "\n",
        "data_test = fetch_20newsgroups(\n",
        "    subset=\"test\", shuffle=True, remove=remove)"
      ]
    },
    {
      "cell_type": "code",
      "execution_count": null,
      "metadata": {
        "colab": {
          "base_uri": "https://localhost:8080/"
        },
        "id": "N1e1Iq4hZVRe",
        "outputId": "e2d62827-98eb-4a5b-87ea-e91475bd0b43"
      },
      "outputs": [],
      "source": [
        "news_tf = TfidfVectorizer(sublinear_tf=True, ngram_range=(1,3), stop_words=\"english\", strip_accents=\"unicode\")\n",
        "X_train = news_tf.fit_transform(data_train.data)\n",
        "y_train = data_train.target\n",
        "X_test = news_tf.transform(data_test.data)\n",
        "y_test = data_test.target\n",
        "print(\"Train:\", X_train.shape, \"  Test:\", X_test.shape)"
      ]
    },
    {
      "cell_type": "code",
      "execution_count": null,
      "metadata": {},
      "outputs": [],
      "source": [
        "# Modelling"
      ]
    },
    {
      "attachments": {},
      "cell_type": "markdown",
      "metadata": {},
      "source": [
        "## Neural Network Tuning Summary vs Reality\n",
        "\n",
        "The techniques above generally expose a pattern that we can use to make accurate models:\n",
        "<ul>\n",
        "<li> Create a model that is accurate and overfitted. (Or setup process to generate an overfitted model)\n",
        "<li> Use hyperparameter tuning-ish methods to trial several different models. \n",
        "<li> Use tools such as regularization and early stopping to \"trim\" the overfitting back. \n",
        "</ul>\n",
        "\n",
        "For the most part, for what we are doing, this will probably work fine, without forcing us to put a tonne of thought into things upfront; we can just make a large model, then reduce it. In practice the main downside to this type of brute force approach is time, and by extension, cost. For us the datasets are mostly small enough that in an extreme case we could do something like setup a bunch of trials, let our computer train and test overnight, and wake up to a model that is pretty good. If our data was scaled up by a factor of 10,000 this becomes less practical. We would want to sample the data to make each trial run much more quickly, but we'd still be dealing with a non-trivial amount of processing time for each model that we want to try. Doing things that reduce the processing requirements of each epoch, such as feature selection, choosing a \"correctly\" sized model, or smart sets of hyperparameters to try, will reduce the amount of \"bad\" trials, and allow us to dedicate more time to \"good\" trials. This is one of the, relatively rare, scenarios that paying attention to processing time can have massive impacts on the end results. We'll look more at making a good sized model next. "
      ]
    }
  ],
  "metadata": {
    "accelerator": "GPU",
    "colab": {
      "name": "022_keras_tensor_sol.ipynb",
      "provenance": []
    },
    "interpreter": {
      "hash": "4d722d3adfa415172c1f5238b519fb86b488acdae450fd691ab06c09f4ca9173"
    },
    "kernelspec": {
      "display_name": "Python 3.9.7 ('ml3950')",
      "language": "python",
      "name": "python3"
    },
    "language_info": {
      "codemirror_mode": {
        "name": "ipython",
        "version": 3
      },
      "file_extension": ".py",
      "mimetype": "text/x-python",
      "name": "python",
      "nbconvert_exporter": "python",
      "pygments_lexer": "ipython3",
      "version": "3.9.12"
    },
    "orig_nbformat": 4
  },
  "nbformat": 4,
  "nbformat_minor": 0
}
